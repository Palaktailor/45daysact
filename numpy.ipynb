{
 "cells": [
  {
   "cell_type": "code",
   "execution_count": 2,
   "id": "7f92903d",
   "metadata": {},
   "outputs": [
    {
     "data": {
      "text/plain": [
       "'2.1.1'"
      ]
     },
     "execution_count": 2,
     "metadata": {},
     "output_type": "execute_result"
    }
   ],
   "source": [
    "#check numpy version\n",
    "import numpy as np\n",
    "np.__version__"
   ]
  },
  {
   "cell_type": "code",
   "execution_count": null,
   "id": "fb7180fc",
   "metadata": {},
   "outputs": [],
   "source": [
    "# numpy -- numericalpytho# \n",
    "# it is faster than list\n",
    "#it is used when we want to use arrays so basically it do the work of arrays\n",
    "#types of array -- 1d,2d,3d\n",
    "# shape has to be maintained\n",
    "# it is 50x faster than list \n",
    "#it is homogeneous use same data type\n"
   ]
  },
  {
   "cell_type": "code",
   "execution_count": 6,
   "id": "d7db2644",
   "metadata": {},
   "outputs": [
    {
     "name": "stdout",
     "output_type": "stream",
     "text": [
      "<class 'numpy.ndarray'>\n"
     ]
    }
   ],
   "source": [
    "lst = [1,2,3,4,5]\n",
    "ar1 =  np.array(lst)\n",
    "ar1\n",
    "print(type(ar1))"
   ]
  },
  {
   "cell_type": "code",
   "execution_count": 7,
   "id": "930fafc2",
   "metadata": {},
   "outputs": [
    {
     "data": {
      "text/plain": [
       "array(['1', '2', '3', '4', '5'], dtype='<U21')"
      ]
     },
     "execution_count": 7,
     "metadata": {},
     "output_type": "execute_result"
    }
   ],
   "source": [
    "lst = [1,2,\"3\",4,5]\n",
    "ar1 =  np.array(lst)\n",
    "ar1"
   ]
  },
  {
   "cell_type": "code",
   "execution_count": 99,
   "id": "53e93283",
   "metadata": {},
   "outputs": [
    {
     "data": {
      "text/plain": [
       "array([[[[1, 2, 3, 4, 5]]]])"
      ]
     },
     "execution_count": 99,
     "metadata": {},
     "output_type": "execute_result"
    }
   ],
   "source": [
    "arr1 = np.array([1,2,3,4,5],ndmin=4)\n",
    "arr1\n"
   ]
  },
  {
   "cell_type": "code",
   "execution_count": 9,
   "id": "70ace2d7",
   "metadata": {},
   "outputs": [
    {
     "data": {
      "text/plain": [
       "array([ 1,  2,  3,  4,  5,  6,  7,  8,  9, 10])"
      ]
     },
     "execution_count": 9,
     "metadata": {},
     "output_type": "execute_result"
    }
   ],
   "source": [
    "#range\n",
    "arr = np.arange(1,11)\n",
    "# print(arr)\n",
    "arr"
   ]
  },
  {
   "cell_type": "code",
   "execution_count": 11,
   "id": "6d074232",
   "metadata": {},
   "outputs": [
    {
     "data": {
      "text/plain": [
       "array([1., 1., 1., 1., 1.])"
      ]
     },
     "execution_count": 11,
     "metadata": {},
     "output_type": "execute_result"
    }
   ],
   "source": [
    "arr = np.ones(5)\n",
    "arr"
   ]
  },
  {
   "cell_type": "code",
   "execution_count": 12,
   "id": "5394a3b2",
   "metadata": {},
   "outputs": [
    {
     "data": {
      "text/plain": [
       "array([0., 0., 0.])"
      ]
     },
     "execution_count": 12,
     "metadata": {},
     "output_type": "execute_result"
    }
   ],
   "source": [
    "arr = np.zeros(3)\n",
    "arr"
   ]
  },
  {
   "cell_type": "code",
   "execution_count": null,
   "id": "c3c92b57",
   "metadata": {},
   "outputs": [
    {
     "data": {
      "text/plain": [
       "array([[0., 0., 0.],\n",
       "       [0., 0., 0.]])"
      ]
     },
     "execution_count": 14,
     "metadata": {},
     "output_type": "execute_result"
    }
   ],
   "source": [
    "#2D array\n",
    "arr2 = np.zeros((2,3)) # assumme it as a matrix\n",
    "arr2"
   ]
  },
  {
   "cell_type": "code",
   "execution_count": 16,
   "id": "94157aab",
   "metadata": {},
   "outputs": [
    {
     "data": {
      "text/plain": [
       "array([ 1.  ,  3.25,  5.5 ,  7.75, 10.  ])"
      ]
     },
     "execution_count": 16,
     "metadata": {},
     "output_type": "execute_result"
    }
   ],
   "source": [
    "arr3 = np.linspace(1,10,5)\n",
    "arr3"
   ]
  },
  {
   "cell_type": "code",
   "execution_count": 17,
   "id": "f6db5b10",
   "metadata": {},
   "outputs": [
    {
     "data": {
      "text/plain": [
       "array([ 1.        ,  1.18367347,  1.36734694,  1.55102041,  1.73469388,\n",
       "        1.91836735,  2.10204082,  2.28571429,  2.46938776,  2.65306122,\n",
       "        2.83673469,  3.02040816,  3.20408163,  3.3877551 ,  3.57142857,\n",
       "        3.75510204,  3.93877551,  4.12244898,  4.30612245,  4.48979592,\n",
       "        4.67346939,  4.85714286,  5.04081633,  5.2244898 ,  5.40816327,\n",
       "        5.59183673,  5.7755102 ,  5.95918367,  6.14285714,  6.32653061,\n",
       "        6.51020408,  6.69387755,  6.87755102,  7.06122449,  7.24489796,\n",
       "        7.42857143,  7.6122449 ,  7.79591837,  7.97959184,  8.16326531,\n",
       "        8.34693878,  8.53061224,  8.71428571,  8.89795918,  9.08163265,\n",
       "        9.26530612,  9.44897959,  9.63265306,  9.81632653, 10.        ])"
      ]
     },
     "execution_count": 17,
     "metadata": {},
     "output_type": "execute_result"
    }
   ],
   "source": [
    "arr3 = np.linspace(1,10,50)\n",
    "arr3"
   ]
  },
  {
   "cell_type": "code",
   "execution_count": null,
   "id": "41d71d89",
   "metadata": {},
   "outputs": [
    {
     "data": {
      "text/plain": [
       "array([[ 1,  2,  3,  4,  5],\n",
       "       [ 6,  7,  8,  9, 10],\n",
       "       [11, 12, 13, 14, 15],\n",
       "       [16, 17, 18, 19, 20],\n",
       "       [21, 22, 23, 24, 25],\n",
       "       [26, 27, 28, 29, 30]])"
      ]
     },
     "execution_count": 21,
     "metadata": {},
     "output_type": "execute_result"
    }
   ],
   "source": [
    "#convert 1D to 2D\n",
    "arr4 = np.arange(1,31).reshape(6,5) #5*6=30 to when you reshape give it in the form of multiple of  the total no. you give in 1D\n",
    "arr4\n"
   ]
  },
  {
   "cell_type": "code",
   "execution_count": null,
   "id": "f0e6dfb7",
   "metadata": {},
   "outputs": [
    {
     "data": {
      "text/plain": [
       "array([17, 35, 94, 15, 92, 26, 29, 73,  1,  6], dtype=int32)"
      ]
     },
     "execution_count": 23,
     "metadata": {},
     "output_type": "execute_result"
    }
   ],
   "source": [
    "#random - random number generation, it is a module in numpy\n",
    "#randint -  gives the random integer\n",
    "arr5 = np.random.randint(1,100,10) # it is updated everytime you run it\n",
    "arr5"
   ]
  },
  {
   "cell_type": "code",
   "execution_count": 26,
   "id": "cc1d642b",
   "metadata": {},
   "outputs": [
    {
     "data": {
      "text/plain": [
       "array([[0.40040573, 0.79718149, 0.99647844],\n",
       "       [0.28052271, 0.28608247, 0.16396018],\n",
       "       [0.9195834 , 0.78842643, 0.09306335]])"
      ]
     },
     "execution_count": 26,
     "metadata": {},
     "output_type": "execute_result"
    }
   ],
   "source": [
    "arr6  = np.random.random(9).reshape(3,3) # return random float in the range[0.0,1.0]\n",
    "arr6"
   ]
  },
  {
   "cell_type": "code",
   "execution_count": null,
   "id": "310fabc9",
   "metadata": {},
   "outputs": [
    {
     "name": "stdout",
     "output_type": "stream",
     "text": [
      "[[ 0  1  2  3  4  5  6  7  8  9 10 11 12 13 14 15 16 17 18 19]\n",
      " [20 21 22 23 24 25 26 27 28 29 30 31 32 33 34 35 36 37 38 39]\n",
      " [40 41 42 43 44 45 46 47 48 49 50 51 52 53 54 55 56 57 58 59]]\n"
     ]
    }
   ],
   "source": [
    "arr7 = np.arange(60).reshape(3,20)\n",
    "arr7.shape     # shape tells you rows and coloumn\n",
    "arr7.dtype     # tells the data type od the elements in the array\n",
    "arr7.size      # tells the size\n",
    "arr7.ndim        # tells the dimension\n"
   ]
  },
  {
   "cell_type": "code",
   "execution_count": null,
   "id": "407ea307",
   "metadata": {},
   "outputs": [
    {
     "data": {
      "text/plain": [
       "2"
      ]
     },
     "execution_count": 33,
     "metadata": {},
     "output_type": "execute_result"
    }
   ],
   "source": [
    "arr7 = np.arange(60).reshape(3,20)\n",
    "arr7.ndim "
   ]
  },
  {
   "cell_type": "code",
   "execution_count": 35,
   "id": "e95077a5",
   "metadata": {},
   "outputs": [
    {
     "data": {
      "text/plain": [
       "array([ 0,  1,  2,  3,  4,  5,  6,  7,  8,  9, 10, 11, 12, 13, 14, 15, 16,\n",
       "       17, 18, 19, 20, 21, 22, 23, 24, 25, 26, 27, 28, 29, 30, 31, 32, 33,\n",
       "       34, 35, 36, 37, 38, 39, 40, 41, 42, 43, 44, 45, 46, 47, 48, 49, 50,\n",
       "       51, 52, 53, 54, 55, 56, 57, 58, 59])"
      ]
     },
     "execution_count": 35,
     "metadata": {},
     "output_type": "execute_result"
    }
   ],
   "source": [
    "#multidimension array convert 1D\n",
    "arr7.ravel()"
   ]
  },
  {
   "cell_type": "code",
   "execution_count": 36,
   "id": "2805fc8c",
   "metadata": {},
   "outputs": [
    {
     "data": {
      "text/plain": [
       "array([ 0,  1,  2,  3,  4,  5,  6,  7,  8,  9, 10, 11, 12, 13, 14, 15, 16,\n",
       "       17, 18, 19, 20, 21, 22, 23, 24, 25, 26, 27, 28, 29, 30, 31, 32, 33,\n",
       "       34, 35, 36, 37, 38, 39, 40, 41, 42, 43, 44, 45, 46, 47, 48, 49, 50,\n",
       "       51, 52, 53, 54, 55, 56, 57, 58, 59])"
      ]
     },
     "execution_count": 36,
     "metadata": {},
     "output_type": "execute_result"
    }
   ],
   "source": [
    "arr7.flatten()"
   ]
  },
  {
   "cell_type": "code",
   "execution_count": 38,
   "id": "25c9553a",
   "metadata": {},
   "outputs": [
    {
     "name": "stdout",
     "output_type": "stream",
     "text": [
      "(3, 20)\n"
     ]
    },
    {
     "data": {
      "text/plain": [
       "(20, 3)"
      ]
     },
     "execution_count": 38,
     "metadata": {},
     "output_type": "execute_result"
    }
   ],
   "source": [
    "#transpose reverse rows to coloumn and vice versa\n",
    "arr7 = np.arange(60).reshape(3,20)\n",
    "print(arr7.shape)\n",
    "\n",
    "arr8 = arr7.T.shape\n",
    "arr8"
   ]
  },
  {
   "cell_type": "code",
   "execution_count": 43,
   "id": "dec57a96",
   "metadata": {},
   "outputs": [
    {
     "data": {
      "text/plain": [
       "np.int64(5)"
      ]
     },
     "execution_count": 43,
     "metadata": {},
     "output_type": "execute_result"
    }
   ],
   "source": [
    "#indexing and slicing\n",
    "arr9 = np.arange(20)\n",
    "\n",
    "arr9\n",
    "arr9[5] "
   ]
  },
  {
   "cell_type": "code",
   "execution_count": 44,
   "id": "6af4a1be",
   "metadata": {},
   "outputs": [
    {
     "data": {
      "text/plain": [
       "1"
      ]
     },
     "execution_count": 44,
     "metadata": {},
     "output_type": "execute_result"
    }
   ],
   "source": [
    "ar = [1,2,3,4,5]\n",
    "ar[0]"
   ]
  },
  {
   "cell_type": "code",
   "execution_count": null,
   "id": "441a73dd",
   "metadata": {},
   "outputs": [
    {
     "data": {
      "text/plain": [
       "[2]"
      ]
     },
     "execution_count": 50,
     "metadata": {},
     "output_type": "execute_result"
    }
   ],
   "source": [
    "\n",
    "\n",
    "ar[1:3:2]"
   ]
  },
  {
   "cell_type": "code",
   "execution_count": null,
   "id": "a3b81a10",
   "metadata": {},
   "outputs": [
    {
     "data": {
      "text/plain": [
       "array([[ 0,  1,  2,  3,  4],\n",
       "       [ 5,  6,  7,  8,  9],\n",
       "       [10, 11, 12, 13, 14],\n",
       "       [15, 16, 17, 18, 19],\n",
       "       [20, 21, 22, 23, 24],\n",
       "       [25, 26, 27, 28, 29],\n",
       "       [30, 31, 32, 33, 34],\n",
       "       [35, 36, 37, 38, 39],\n",
       "       [40, 41, 42, 43, 44],\n",
       "       [45, 46, 47, 48, 49],\n",
       "       [50, 51, 52, 53, 54],\n",
       "       [55, 56, 57, 58, 59]])"
      ]
     },
     "execution_count": 52,
     "metadata": {},
     "output_type": "execute_result"
    }
   ],
   "source": [
    "#2D -- [row start:row end ,coloumn start:column end]\n",
    "arr7 = np.arange(60).reshape(12,5)\n",
    "arr7"
   ]
  },
  {
   "cell_type": "code",
   "execution_count": 54,
   "id": "eb3e4206",
   "metadata": {},
   "outputs": [
    {
     "data": {
      "text/plain": [
       "array([[15, 16, 17, 18, 19],\n",
       "       [20, 21, 22, 23, 24],\n",
       "       [25, 26, 27, 28, 29]])"
      ]
     },
     "execution_count": 54,
     "metadata": {},
     "output_type": "execute_result"
    }
   ],
   "source": [
    "arr7[3:6]"
   ]
  },
  {
   "cell_type": "code",
   "execution_count": null,
   "id": "2dd4a1e8",
   "metadata": {},
   "outputs": [
    {
     "data": {
      "text/plain": [
       "array([[17, 18, 19],\n",
       "       [22, 23, 24],\n",
       "       [27, 28, 29]])"
      ]
     },
     "execution_count": 58,
     "metadata": {},
     "output_type": "execute_result"
    }
   ],
   "source": [
    "# arr7[3:6,2:]"
   ]
  },
  {
   "cell_type": "code",
   "execution_count": 59,
   "id": "048966b5",
   "metadata": {},
   "outputs": [
    {
     "data": {
      "text/plain": [
       "array([[17, 18, 19],\n",
       "       [22, 23, 24],\n",
       "       [27, 28, 29]])"
      ]
     },
     "execution_count": 59,
     "metadata": {},
     "output_type": "execute_result"
    }
   ],
   "source": [
    "arr7[3:6,2:]"
   ]
  },
  {
   "cell_type": "code",
   "execution_count": null,
   "id": "02011f82",
   "metadata": {},
   "outputs": [
    {
     "data": {
      "text/plain": [
       "array([[17]])"
      ]
     },
     "execution_count": 60,
     "metadata": {},
     "output_type": "execute_result"
    }
   ],
   "source": [
    "arr7[3:4,2:3] "
   ]
  },
  {
   "cell_type": "code",
   "execution_count": 87,
   "id": "74f95e3f",
   "metadata": {},
   "outputs": [
    {
     "data": {
      "text/plain": [
       "array([[  0,   1,   2,   3,   4],\n",
       "       [  5,   6,   7,   8,   9],\n",
       "       [ 10,  11,  12,  13,  14],\n",
       "       [ 15,  16, 100,  18,  19],\n",
       "       [ 20,  21,  22,  23,  24],\n",
       "       [ 25,  26,  27,  28,  29],\n",
       "       [ 30,  31,  32,  33,  34],\n",
       "       [ 35,  36,  37,  38,  39],\n",
       "       [ 40,  41,  42,  43,  44],\n",
       "       [ 45,  46,  47,  48,  49],\n",
       "       [ 50,  51,  52,  53,  54],\n",
       "       [ 55,  56,  57,  58,  59]])"
      ]
     },
     "execution_count": 87,
     "metadata": {},
     "output_type": "execute_result"
    }
   ],
   "source": [
    "arr7[3:4,2:3]  = 100\n",
    "arr7"
   ]
  },
  {
   "cell_type": "code",
   "execution_count": 88,
   "id": "3209f6f7",
   "metadata": {},
   "outputs": [
    {
     "data": {
      "text/plain": [
       "np.int64(100)"
      ]
     },
     "execution_count": 88,
     "metadata": {},
     "output_type": "execute_result"
    }
   ],
   "source": [
    "np.max(arr7)"
   ]
  },
  {
   "cell_type": "code",
   "execution_count": 89,
   "id": "87370895",
   "metadata": {},
   "outputs": [
    {
     "data": {
      "text/plain": [
       "np.float64(19.44830041131844)"
      ]
     },
     "execution_count": 89,
     "metadata": {},
     "output_type": "execute_result"
    }
   ],
   "source": [
    "np.min(arr7)\n",
    "np.sum(arr7)\n",
    "np.mean(arr7)\n",
    "np.median(arr7)\n",
    "np.std(arr7)"
   ]
  },
  {
   "cell_type": "code",
   "execution_count": 92,
   "id": "b41cc22c",
   "metadata": {},
   "outputs": [
    {
     "data": {
      "text/plain": [
       "array([[  0,   1,   2,   3,   4],\n",
       "       [  5,   6,   7,   8,   9],\n",
       "       [ 10,  11,  12,  13,  14],\n",
       "       [ 15,  16,  18,  19, 100],\n",
       "       [ 20,  21,  22,  23,  24],\n",
       "       [ 25,  26,  27,  28,  29],\n",
       "       [ 30,  31,  32,  33,  34],\n",
       "       [ 35,  36,  37,  38,  39],\n",
       "       [ 40,  41,  42,  43,  44],\n",
       "       [ 45,  46,  47,  48,  49],\n",
       "       [ 50,  51,  52,  53,  54],\n",
       "       [ 55,  56,  57,  58,  59]])"
      ]
     },
     "execution_count": 92,
     "metadata": {},
     "output_type": "execute_result"
    }
   ],
   "source": [
    "arr7.sort()\n",
    "arr7"
   ]
  },
  {
   "cell_type": "code",
   "execution_count": null,
   "id": "1adf9ed8",
   "metadata": {},
   "outputs": [
    {
     "data": {
      "text/plain": [
       "array([2, 0, 1, 3])"
      ]
     },
     "execution_count": 95,
     "metadata": {},
     "output_type": "execute_result"
    }
   ],
   "source": [
    "arr7 = arr7[3:4,2:3] \n",
    "arr7.argsort()    # its sorts acc to the inmdex number like 1 is on [2]"
   ]
  },
  {
   "cell_type": "code",
   "execution_count": 66,
   "id": "304e0fad",
   "metadata": {},
   "outputs": [
    {
     "data": {
      "text/plain": [
       "np.int64(43)"
      ]
     },
     "execution_count": 66,
     "metadata": {},
     "output_type": "execute_result"
    }
   ],
   "source": [
    "arr7[8:10,3:5][0][0]"
   ]
  },
  {
   "cell_type": "code",
   "execution_count": 75,
   "id": "9a06288e",
   "metadata": {},
   "outputs": [
    {
     "data": {
      "text/plain": [
       "array([[ 55,  56,  57,  58,  59],\n",
       "       [ 50,  51,  52,  53,  54],\n",
       "       [ 45,  46,  47,  48,  49],\n",
       "       [ 40,  41,  42,  43,  44],\n",
       "       [ 35,  36,  37,  38,  39],\n",
       "       [ 30,  31,  32,  33,  34],\n",
       "       [ 25,  26,  27,  28,  29],\n",
       "       [ 20,  21,  22,  23,  24],\n",
       "       [ 15,  16, 100,  18,  19],\n",
       "       [ 10,  11,  12,  13,  14],\n",
       "       [  5,   6,   7,   8,   9],\n",
       "       [  0,   1,   2,   3,   4]])"
      ]
     },
     "execution_count": 75,
     "metadata": {},
     "output_type": "execute_result"
    }
   ],
   "source": [
    "arr7[::-1]"
   ]
  },
  {
   "cell_type": "code",
   "execution_count": null,
   "id": "6f78f218",
   "metadata": {},
   "outputs": [
    {
     "data": {
      "text/plain": [
       "array([[ 59,  58,  57,  56,  55],\n",
       "       [ 54,  53,  52,  51,  50],\n",
       "       [ 49,  48,  47,  46,  45],\n",
       "       [ 44,  43,  42,  41,  40],\n",
       "       [ 39,  38,  37,  36,  35],\n",
       "       [ 34,  33,  32,  31,  30],\n",
       "       [ 29,  28,  27,  26,  25],\n",
       "       [ 24,  23,  22,  21,  20],\n",
       "       [ 19,  18, 100,  16,  15],\n",
       "       [ 14,  13,  12,  11,  10],\n",
       "       [  9,   8,   7,   6,   5],\n",
       "       [  4,   3,   2,   1,   0]])"
      ]
     },
     "execution_count": 76,
     "metadata": {},
     "output_type": "execute_result"
    }
   ],
   "source": [
    "arr7[::-1,::-1] #reverse column and rows"
   ]
  },
  {
   "cell_type": "code",
   "execution_count": null,
   "id": "bb00ae42",
   "metadata": {},
   "outputs": [
    {
     "data": {
      "text/plain": [
       "array([[[  0,   1,   2,   3,   4],\n",
       "        [  5,   6,   7,   8,   9],\n",
       "        [ 10,  11,  12,  13,  14],\n",
       "        [ 15,  16,  17,  18,  19],\n",
       "        [ 20,  21,  22,  23,  24],\n",
       "        [ 25,  26,  27,  28,  29],\n",
       "        [ 30,  31,  32,  33,  34],\n",
       "        [ 35,  36,  37,  38,  39],\n",
       "        [ 40,  41,  42,  43,  44],\n",
       "        [ 45,  46,  47,  48,  49],\n",
       "        [ 50,  51,  52,  53,  54],\n",
       "        [ 55,  56,  57,  58,  59],\n",
       "        [ 60,  61,  62,  63,  64],\n",
       "        [ 65,  66,  67,  68,  69],\n",
       "        [ 70,  71,  72,  73,  74]],\n",
       "\n",
       "       [[ 75,  76,  77,  78,  79],\n",
       "        [ 80,  81,  82,  83,  84],\n",
       "        [ 85,  86,  87,  88,  89],\n",
       "        [ 90,  91,  92,  93,  94],\n",
       "        [ 95,  96,  97,  98,  99],\n",
       "        [100, 101, 102, 103, 104],\n",
       "        [105, 106, 107, 108, 109],\n",
       "        [110, 111, 112, 113, 114],\n",
       "        [115, 116, 117, 118, 119],\n",
       "        [120, 121, 122, 123, 124],\n",
       "        [125, 126, 127, 128, 129],\n",
       "        [130, 131, 132, 133, 134],\n",
       "        [135, 136, 137, 138, 139],\n",
       "        [140, 141, 142, 143, 144],\n",
       "        [145, 146, 147, 148, 149]],\n",
       "\n",
       "       [[150, 151, 152, 153, 154],\n",
       "        [155, 156, 157, 158, 159],\n",
       "        [160, 161, 162, 163, 164],\n",
       "        [165, 166, 167, 168, 169],\n",
       "        [170, 171, 172, 173, 174],\n",
       "        [175, 176, 177, 178, 179],\n",
       "        [180, 181, 182, 183, 184],\n",
       "        [185, 186, 187, 188, 189],\n",
       "        [190, 191, 192, 193, 194],\n",
       "        [195, 196, 197, 198, 199],\n",
       "        [200, 201, 202, 203, 204],\n",
       "        [205, 206, 207, 208, 209],\n",
       "        [210, 211, 212, 213, 214],\n",
       "        [215, 216, 217, 218, 219],\n",
       "        [220, 221, 222, 223, 224]]])"
      ]
     },
     "execution_count": 80,
     "metadata": {},
     "output_type": "execute_result"
    }
   ],
   "source": [
    "#3d array\n",
    "arr9 = np.arange(225).reshape(3,15,5)  #syntax[table divided,row,column]\n",
    "arr9\n"
   ]
  },
  {
   "cell_type": "code",
   "execution_count": 81,
   "id": "9c027ef5",
   "metadata": {},
   "outputs": [
    {
     "data": {
      "text/plain": [
       "array([[ 75,  76,  77,  78,  79],\n",
       "       [ 80,  81,  82,  83,  84],\n",
       "       [ 85,  86,  87,  88,  89],\n",
       "       [ 90,  91,  92,  93,  94],\n",
       "       [ 95,  96,  97,  98,  99],\n",
       "       [100, 101, 102, 103, 104],\n",
       "       [105, 106, 107, 108, 109],\n",
       "       [110, 111, 112, 113, 114],\n",
       "       [115, 116, 117, 118, 119],\n",
       "       [120, 121, 122, 123, 124],\n",
       "       [125, 126, 127, 128, 129],\n",
       "       [130, 131, 132, 133, 134],\n",
       "       [135, 136, 137, 138, 139],\n",
       "       [140, 141, 142, 143, 144],\n",
       "       [145, 146, 147, 148, 149]])"
      ]
     },
     "execution_count": 81,
     "metadata": {},
     "output_type": "execute_result"
    }
   ],
   "source": [
    "##slicing in #D arrray\n",
    "#stntax --\n",
    "#[table start : table end : table skip, row start : row end : row skip, col start:col end :col skip]\n",
    "arr9[1]"
   ]
  },
  {
   "cell_type": "code",
   "execution_count": null,
   "id": "5ed65b70",
   "metadata": {},
   "outputs": [
    {
     "data": {
      "text/plain": [
       "array([[[  5,   6,   7,   8,   9],\n",
       "        [ 10,  11,  12,  13,  14],\n",
       "        [ 15,  16,  17,  18,  19]],\n",
       "\n",
       "       [[ 80,  81,  82,  83,  84],\n",
       "        [ 85,  86,  87,  88,  89],\n",
       "        [ 90,  91,  92,  93,  94]],\n",
       "\n",
       "       [[155, 156, 157, 158, 159],\n",
       "        [160, 161, 162, 163, 164],\n",
       "        [165, 166, 167, 168, 169]]])"
      ]
     },
     "execution_count": 82,
     "metadata": {},
     "output_type": "execute_result"
    }
   ],
   "source": [
    "arr9[0:,1:4]"
   ]
  },
  {
   "cell_type": "code",
   "execution_count": 83,
   "id": "7dcd87a2",
   "metadata": {},
   "outputs": [
    {
     "data": {
      "text/plain": [
       "array([[[  7,   8],\n",
       "        [ 12,  13],\n",
       "        [ 17,  18]],\n",
       "\n",
       "       [[ 82,  83],\n",
       "        [ 87,  88],\n",
       "        [ 92,  93]],\n",
       "\n",
       "       [[157, 158],\n",
       "        [162, 163],\n",
       "        [167, 168]]])"
      ]
     },
     "execution_count": 83,
     "metadata": {},
     "output_type": "execute_result"
    }
   ],
   "source": [
    "arr9[0:,1:4,2:4]"
   ]
  },
  {
   "cell_type": "code",
   "execution_count": 86,
   "id": "5bb02d17",
   "metadata": {},
   "outputs": [
    {
     "data": {
      "text/plain": [
       "array([[[25, 26, 27]]])"
      ]
     },
     "execution_count": 86,
     "metadata": {},
     "output_type": "execute_result"
    }
   ],
   "source": [
    "arr9[0: 1,5:6,0:3]"
   ]
  },
  {
   "cell_type": "code",
   "execution_count": 96,
   "id": "3b3c34cc",
   "metadata": {},
   "outputs": [
    {
     "data": {
      "text/plain": [
       "array([ 4, 10,  2, 18])"
      ]
     },
     "execution_count": 96,
     "metadata": {},
     "output_type": "execute_result"
    }
   ],
   "source": [
    "arr11 = np.array([2,5,1,9])\n",
    "arr11*2"
   ]
  },
  {
   "cell_type": "code",
   "execution_count": null,
   "id": "a1c0bb96",
   "metadata": {},
   "outputs": [],
   "source": [
    "arr11 = np.array([2,5,1,9])\n",
    "arr12 = np.array([2,5,1,9])\n"
   ]
  }
 ],
 "metadata": {
  "kernelspec": {
   "display_name": "Python 3",
   "language": "python",
   "name": "python3"
  },
  "language_info": {
   "codemirror_mode": {
    "name": "ipython",
    "version": 3
   },
   "file_extension": ".py",
   "mimetype": "text/x-python",
   "name": "python",
   "nbconvert_exporter": "python",
   "pygments_lexer": "ipython3",
   "version": "3.12.5"
  }
 },
 "nbformat": 4,
 "nbformat_minor": 5
}
