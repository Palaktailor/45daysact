{
 "cells": [
  {
   "cell_type": "code",
   "execution_count": null,
   "id": "890bf329",
   "metadata": {},
   "outputs": [],
   "source": [
    "##modules---- import other python files into current files\n",
    "#module is a single ppython file(.py)\n",
    "#there are three types of modules\n",
    "#1 built.in modules  - os ,date time,re,math\n",
    "#2- third party modules-- pandas numpy  seaborn matplotlib\n",
    "#3- user defined modules\n"
   ]
  },
  {
   "cell_type": "code",
   "execution_count": null,
   "id": "0a8cc1c2",
   "metadata": {},
   "outputs": [],
   "source": [
    "# import os\n",
    "# from functools import reduce  ##mandatory --- add __init__.pyfile to make your directory a package so that you can reuse it\n"
   ]
  },
  {
   "cell_type": "code",
   "execution_count": 4,
   "id": "66a52fbe",
   "metadata": {},
   "outputs": [
    {
     "name": "stdout",
     "output_type": "stream",
     "text": [
      "hello\n",
      "None\n"
     ]
    }
   ],
   "source": [
    "# from test  import addfunction/\n",
    "from str import hello\n",
    "\n",
    "print(hello())"
   ]
  },
  {
   "cell_type": "code",
   "execution_count": null,
   "id": "3bc805eb",
   "metadata": {},
   "outputs": [],
   "source": []
  },
  {
   "cell_type": "code",
   "execution_count": null,
   "id": "d61a86da",
   "metadata": {},
   "outputs": [],
   "source": []
  }
 ],
 "metadata": {
  "kernelspec": {
   "display_name": "Python 3",
   "language": "python",
   "name": "python3"
  },
  "language_info": {
   "codemirror_mode": {
    "name": "ipython",
    "version": 3
   },
   "file_extension": ".py",
   "mimetype": "text/x-python",
   "name": "python",
   "nbconvert_exporter": "python",
   "pygments_lexer": "ipython3",
   "version": "3.12.5"
  }
 },
 "nbformat": 4,
 "nbformat_minor": 5
}
