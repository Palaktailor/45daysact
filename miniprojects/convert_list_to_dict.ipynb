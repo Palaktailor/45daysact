{
 "cells": [
  {
   "cell_type": "code",
   "execution_count": 7,
   "id": "d6054564",
   "metadata": {},
   "outputs": [
    {
     "name": "stdout",
     "output_type": "stream",
     "text": [
      "{'piyush': 85, 'jaya': 55, 'palak': 99}\n",
      "highest number99\n"
     ]
    }
   ],
   "source": [
    "list = [(\"piyush\",85),(\"jaya\",55),(\"palak\",99)]\n",
    "dit = dict(list)\n",
    "print(dit)\n",
    "max = 0\n",
    "for i in dit:\n",
    "   if max<dit[i]:\n",
    "      max =dit[i]\n",
    "print(f\"highest number{max}\")"
   ]
  },
  {
   "cell_type": "code",
   "execution_count": 1,
   "id": "2fc7eeb8",
   "metadata": {},
   "outputs": [
    {
     "data": {
      "text/plain": [
       "'palak'"
      ]
     },
     "execution_count": 1,
     "metadata": {},
     "output_type": "execute_result"
    }
   ],
   "source": [
    "list = [(\"piyush\",85),(\"jaya\",55),(\"palak\",99)]\n",
    "dit = dict(list)\n",
    "maxkey = max(dit,key=dit.get)\n",
    "maxkey"
   ]
  },
  {
   "cell_type": "code",
   "execution_count": null,
   "id": "de7967d5",
   "metadata": {},
   "outputs": [],
   "source": []
  }
 ],
 "metadata": {
  "kernelspec": {
   "display_name": "Python 3",
   "language": "python",
   "name": "python3"
  },
  "language_info": {
   "codemirror_mode": {
    "name": "ipython",
    "version": 3
   },
   "file_extension": ".py",
   "mimetype": "text/x-python",
   "name": "python",
   "nbconvert_exporter": "python",
   "pygments_lexer": "ipython3",
   "version": "3.12.5"
  }
 },
 "nbformat": 4,
 "nbformat_minor": 5
}
