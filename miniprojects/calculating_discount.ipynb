{
 "cells": [
  {
   "cell_type": "code",
   "execution_count": 10,
   "id": "c1fe8c15",
   "metadata": {},
   "outputs": [
    {
     "name": "stdout",
     "output_type": "stream",
     "text": [
      "{'tshirt': 300, 'top': 500, 'jeans': 700}\n",
      "{'tshirt': 270.0, 'top': 450.0, 'jeans': 630.0}\n"
     ]
    }
   ],
   "source": [
    "def call_dict():\n",
    "    d ={}\n",
    "    d2 = {}\n",
    "    n = int(input(\"enter the number of products and price\"))\n",
    "    for i in range(n):\n",
    "        products = input(\"enter the name of the products\")\n",
    "        price = int(input(\"enter the name of the price \"))\n",
    "        d[products]=price\n",
    "        price2= price/100*90\n",
    "        d2[products]=price2\n",
    "    print(d)\n",
    "    print(d2)\n",
    "call_dict()\n",
    "\n",
    "    \n",
    "\n",
    "\n"
   ]
  },
  {
   "cell_type": "code",
   "execution_count": null,
   "id": "ca27923a",
   "metadata": {},
   "outputs": [],
   "source": []
  },
  {
   "cell_type": "code",
   "execution_count": null,
   "id": "21bb6c70",
   "metadata": {},
   "outputs": [],
   "source": []
  }
 ],
 "metadata": {
  "kernelspec": {
   "display_name": "Python 3",
   "language": "python",
   "name": "python3"
  },
  "language_info": {
   "codemirror_mode": {
    "name": "ipython",
    "version": 3
   },
   "file_extension": ".py",
   "mimetype": "text/x-python",
   "name": "python",
   "nbconvert_exporter": "python",
   "pygments_lexer": "ipython3",
   "version": "3.12.5"
  }
 },
 "nbformat": 4,
 "nbformat_minor": 5
}
