{
 "cells": [
  {
   "cell_type": "code",
   "execution_count": null,
   "id": "84f04fda",
   "metadata": {},
   "outputs": [],
   "source": [
    "##list comprehension is a way to create a new with less syntax\n",
    "# [expression/output for loop condition]"
   ]
  },
  {
   "cell_type": "code",
   "execution_count": 5,
   "id": "536ff573",
   "metadata": {},
   "outputs": [
    {
     "data": {
      "text/plain": [
       "[1, 4, 9, 16, 25, 36, 49, 64]"
      ]
     },
     "execution_count": 5,
     "metadata": {},
     "output_type": "execute_result"
    }
   ],
   "source": [
    "lst = [1,2,3,4,5,6,7,8]\n",
    "lst=[i**2 for i in lst]\n",
    "lst\n"
   ]
  },
  {
   "cell_type": "code",
   "execution_count": 6,
   "id": "e8799860",
   "metadata": {},
   "outputs": [
    {
     "name": "stdout",
     "output_type": "stream",
     "text": [
      "['RED ', 'GREEN', 'BLUE', 'BLACK']\n"
     ]
    }
   ],
   "source": [
    "lst =[ \"red \", \"green\",\"blue\", \"black\"]\n",
    "newlst= [i.upper() for i in lst]\n",
    "print(newlst) "
   ]
  },
  {
   "cell_type": "code",
   "execution_count": 8,
   "id": "d1b07550",
   "metadata": {},
   "outputs": [
    {
     "name": "stdout",
     "output_type": "stream",
     "text": [
      "[3, 5]\n"
     ]
    }
   ],
   "source": [
    "lst = [1,2,3,4,5]\n",
    "lst1 = [ i+1 for i in lst if i%2==0]\n",
    "print(lst1)"
   ]
  },
  {
   "cell_type": "code",
   "execution_count": 12,
   "id": "1dc276db",
   "metadata": {},
   "outputs": [
    {
     "name": "stdout",
     "output_type": "stream",
     "text": [
      "['r', 'g', 'b', 'b']\n"
     ]
    }
   ],
   "source": [
    "lst = [\"red\",\"green\",\"blue\", \"black\"]\n",
    "lst1 = [ i[0] for i in lst ]\n",
    "print(lst1)"
   ]
  },
  {
   "cell_type": "code",
   "execution_count": null,
   "id": "5f83840a",
   "metadata": {},
   "outputs": [
    {
     "data": {
      "text/plain": [
       "[[1, 2, 3], [4, 5, 6], [7, 8, 9]]"
      ]
     },
     "execution_count": 15,
     "metadata": {},
     "output_type": "execute_result"
    }
   ],
   "source": [
    "##flattening a list\n",
    "lst = [[1,2,3],[4,5,6],[7,8,9]]\n",
    "lst1 = [i[0:4] for i in lst :]\n",
    "lst = "
   ]
  },
  {
   "cell_type": "code",
   "execution_count": null,
   "id": "e86c368b",
   "metadata": {},
   "outputs": [],
   "source": []
  }
 ],
 "metadata": {
  "kernelspec": {
   "display_name": "Python 3",
   "language": "python",
   "name": "python3"
  },
  "language_info": {
   "codemirror_mode": {
    "name": "ipython",
    "version": 3
   },
   "file_extension": ".py",
   "mimetype": "text/x-python",
   "name": "python",
   "nbconvert_exporter": "python",
   "pygments_lexer": "ipython3",
   "version": "3.12.5"
  }
 },
 "nbformat": 4,
 "nbformat_minor": 5
}
