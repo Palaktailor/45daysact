{
 "cells": [
  {
   "cell_type": "code",
   "execution_count": null,
   "id": "e47b9e8f",
   "metadata": {},
   "outputs": [],
   "source": [
    "##built in functions\n",
    "##lambda functions --- small anonymous function\n",
    "#lambda agruments :expression-------syntax\n"
   ]
  },
  {
   "cell_type": "code",
   "execution_count": 2,
   "id": "f81ff2f5",
   "metadata": {},
   "outputs": [
    {
     "data": {
      "text/plain": [
       "16"
      ]
     },
     "execution_count": 2,
     "metadata": {},
     "output_type": "execute_result"
    }
   ],
   "source": [
    "x = lambda a : a+10\n",
    "x(6)"
   ]
  },
  {
   "cell_type": "code",
   "execution_count": 3,
   "id": "089a50b8",
   "metadata": {},
   "outputs": [
    {
     "data": {
      "text/plain": [
       "5"
      ]
     },
     "execution_count": 3,
     "metadata": {},
     "output_type": "execute_result"
    }
   ],
   "source": [
    "x = lambda a,b : a+b\n",
    "x(2,3)"
   ]
  },
  {
   "cell_type": "code",
   "execution_count": 5,
   "id": "59a5acb3",
   "metadata": {},
   "outputs": [
    {
     "data": {
      "text/plain": [
       "17"
      ]
     },
     "execution_count": 5,
     "metadata": {},
     "output_type": "execute_result"
    }
   ],
   "source": [
    "x = lambda a,b :a+b\n",
    "a = int(input(\"enter a value\"))\n",
    "b = int(input(\"enter a value\"))\n",
    "x(a,b)"
   ]
  },
  {
   "cell_type": "code",
   "execution_count": 6,
   "id": "3fb78a3c",
   "metadata": {},
   "outputs": [
    {
     "data": {
      "text/plain": [
       "64"
      ]
     },
     "execution_count": 6,
     "metadata": {},
     "output_type": "execute_result"
    }
   ],
   "source": [
    "x  = lambda a : a**2\n",
    "a = int(input(\"enter a value\"))\n",
    "x(a)"
   ]
  },
  {
   "cell_type": "code",
   "execution_count": null,
   "id": "06a9d93f",
   "metadata": {},
   "outputs": [
    {
     "name": "stdout",
     "output_type": "stream",
     "text": [
      "<class 'map'>\n"
     ]
    }
   ],
   "source": [
    "#map  ----map(function,iterable)\n",
    "def square(num):\n",
    "    return num*num\n",
    "\n",
    "lst =[1,2,3,4,5]\n",
    "result =  map(square,lst)\n",
    "print(list(result))\n",
    "# print(type(result))"
   ]
  },
  {
   "cell_type": "code",
   "execution_count": 14,
   "id": "61b1ed14",
   "metadata": {},
   "outputs": [
    {
     "name": "stdout",
     "output_type": "stream",
     "text": [
      "[1, 4, 9, 16, 25]\n"
     ]
    }
   ],
   "source": [
    "# #map  ----map(function,iterable)\n",
    "# def square(num):\n",
    "#     return num*num\n",
    "\n",
    "lst =[1,2,3,4,5]\n",
    "result =  map(lambda num: num**2,lst)\n",
    "print(list(result))\n",
    "# print(type(result))"
   ]
  },
  {
   "cell_type": "code",
   "execution_count": 18,
   "id": "081a5ef9",
   "metadata": {},
   "outputs": [
    {
     "name": "stdout",
     "output_type": "stream",
     "text": [
      "[1, 3, 5]\n"
     ]
    }
   ],
   "source": [
    "###filter -----filter(function,iterable)\n",
    "\n",
    "lst = [ 1,2,3,4,5]\n",
    "result = filter (lambda num:num%2!=0,lst)\n",
    "print(list(result))"
   ]
  },
  {
   "cell_type": "code",
   "execution_count": null,
   "id": "e497df2b",
   "metadata": {},
   "outputs": [
    {
     "name": "stdout",
     "output_type": "stream",
     "text": [
      "15\n"
     ]
    }
   ],
   "source": [
    "###reduce \n",
    "from functools import reduce\n",
    "lst = [1,2,3,4,5]\n",
    "result = reduce (lambda num1,num2: num1 +num2,lst)  \n",
    "print(result)"
   ]
  },
  {
   "cell_type": "code",
   "execution_count": null,
   "id": "a383932d",
   "metadata": {},
   "outputs": [],
   "source": [
    "# reduce works like\n",
    "# [3,3,4,5] [6,4,5]  ,[10,5] , [15]\n"
   ]
  },
  {
   "cell_type": "code",
   "execution_count": null,
   "id": "4314df19",
   "metadata": {},
   "outputs": [
    {
     "ename": "SyntaxError",
     "evalue": "'(' was never closed (2198538801.py, line 3)",
     "output_type": "error",
     "traceback": [
      "  \u001b[36mCell\u001b[39m\u001b[36m \u001b[39m\u001b[32mIn[29]\u001b[39m\u001b[32m, line 3\u001b[39m\n\u001b[31m    \u001b[39m\u001b[31mresult = enumerate (lst,start =10# start is used like from wher you want it to be start\u001b[39m\n                       ^\n\u001b[31mSyntaxError\u001b[39m\u001b[31m:\u001b[39m '(' was never closed\n"
     ]
    }
   ],
   "source": [
    "##enumerate function\n",
    "lst = [\"mohan\",\"palak\", \"jaya\"]\n",
    "result = enumerate (lst,start =10)# start is used like from wher you want it to be start\n",
    "print(tuple(result))\n",
    "# print(list(result))"
   ]
  },
  {
   "cell_type": "code",
   "execution_count": null,
   "id": "2126fd5b",
   "metadata": {},
   "outputs": [
    {
     "name": "stdout",
     "output_type": "stream",
     "text": [
      "{'palak': 1, 'jaya ': 2}\n"
     ]
    }
   ],
   "source": [
    "##zip function --- it is used to combine two or more iterables\n",
    "lst1 = [\"palak\", \"jaya \", \"chig\"]\n",
    "lst2 = [1,2,3]\n",
    "result = zip(lst1,lst2)\n",
    "print(dict(result))"
   ]
  },
  {
   "cell_type": "code",
   "execution_count": 32,
   "id": "e64304fa",
   "metadata": {},
   "outputs": [
    {
     "name": "stdout",
     "output_type": "stream",
     "text": [
      "{'palak': 1, 'jaya ': 2}\n"
     ]
    }
   ],
   "source": [
    "lst1 = [\"palak\", \"jaya \", \"chig\"]\n",
    "lst2 = [1,2]\n",
    "result = zip(lst1,lst2)\n",
    "print(dict(result))"
   ]
  },
  {
   "cell_type": "code",
   "execution_count": 33,
   "id": "ddeb6a25",
   "metadata": {},
   "outputs": [
    {
     "name": "stdout",
     "output_type": "stream",
     "text": [
      "{'palak': 1, 'jaya ': 2, 'chig': 'green'}\n"
     ]
    }
   ],
   "source": [
    "lst1 = [\"palak\", \"jaya \", \"chig\"]\n",
    "tuple1 = (1,2,\"green\")\n",
    "result = zip(lst1,tuple1)\n",
    "print(dict(result))"
   ]
  },
  {
   "cell_type": "code",
   "execution_count": 40,
   "id": "803622c0",
   "metadata": {},
   "outputs": [
    {
     "name": "stdout",
     "output_type": "stream",
     "text": [
      "['palak', 'jaya ', 'chig']\n",
      "[1, 2, 'green']\n"
     ]
    }
   ],
   "source": [
    "zipped ={'palak': 1, 'jaya ': 2, 'chig': 'green'}\n",
    "result,number= zip(*zipped.items())\n",
    "print(list(result))\n",
    "print(list(number))\n",
    "\n"
   ]
  },
  {
   "cell_type": "code",
   "execution_count": 42,
   "id": "2a63934b",
   "metadata": {},
   "outputs": [
    {
     "ename": "ValueError",
     "evalue": "too many values to unpack (expected 2)",
     "output_type": "error",
     "traceback": [
      "\u001b[31m---------------------------------------------------------------------------\u001b[39m",
      "\u001b[31mValueError\u001b[39m                                Traceback (most recent call last)",
      "\u001b[36mCell\u001b[39m\u001b[36m \u001b[39m\u001b[32mIn[42]\u001b[39m\u001b[32m, line 2\u001b[39m\n\u001b[32m      1\u001b[39m zipped ={\u001b[33m'\u001b[39m\u001b[33mpalak\u001b[39m\u001b[33m'\u001b[39m: \u001b[32m1\u001b[39m, \u001b[33m'\u001b[39m\u001b[33mjaya \u001b[39m\u001b[33m'\u001b[39m: \u001b[32m2\u001b[39m, \u001b[33m'\u001b[39m\u001b[33mchig\u001b[39m\u001b[33m'\u001b[39m: \u001b[33m'\u001b[39m\u001b[33mgreen\u001b[39m\u001b[33m'\u001b[39m}\n\u001b[32m----> \u001b[39m\u001b[32m2\u001b[39m result,number= \u001b[38;5;28mzip\u001b[39m(*zipped)\n\u001b[32m      3\u001b[39m \u001b[38;5;28mprint\u001b[39m(\u001b[38;5;28mlist\u001b[39m(result))\n\u001b[32m      4\u001b[39m \u001b[38;5;28mprint\u001b[39m(\u001b[38;5;28mlist\u001b[39m(number))\n",
      "\u001b[31mValueError\u001b[39m: too many values to unpack (expected 2)"
     ]
    }
   ],
   "source": [
    "zipped ={'palak': 1, 'jaya ': 2, 'chig': 'green'}\n",
    "result,number= zip(*zipped)\n",
    "print(list(result))\n",
    "print(list(number))"
   ]
  },
  {
   "cell_type": "code",
   "execution_count": null,
   "id": "b1c82a72",
   "metadata": {},
   "outputs": [],
   "source": []
  }
 ],
 "metadata": {
  "kernelspec": {
   "display_name": "Python 3",
   "language": "python",
   "name": "python3"
  },
  "language_info": {
   "codemirror_mode": {
    "name": "ipython",
    "version": 3
   },
   "file_extension": ".py",
   "mimetype": "text/x-python",
   "name": "python",
   "nbconvert_exporter": "python",
   "pygments_lexer": "ipython3",
   "version": "3.12.5"
  }
 },
 "nbformat": 4,
 "nbformat_minor": 5
}
