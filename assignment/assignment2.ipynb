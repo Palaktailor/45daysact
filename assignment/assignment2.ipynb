{
 "cells": [
  {
   "cell_type": "markdown",
   "id": "93de15cd",
   "metadata": {},
   "source": [
    "                                       *****ASSIGNMENT2 -- loops and conditional statements*********"
   ]
  },
  {
   "cell_type": "markdown",
   "id": "3843e68e",
   "metadata": {},
   "source": [
    "ANS1 --"
   ]
  }
 ],
 "metadata": {
  "language_info": {
   "name": "python"
  }
 },
 "nbformat": 4,
 "nbformat_minor": 5
}
