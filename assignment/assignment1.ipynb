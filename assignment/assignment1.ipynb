{
 "cells": [
  {
   "cell_type": "markdown",
   "id": "693e84fb",
   "metadata": {},
   "source": [
    "            ###Assignment 1 -- Data types and Operators \n",
    "Ans 1.  List and tuples both are built in data types in python that used to store multiple value in one variable.  \n",
    ">In term of MUTABILITY -- list are mutable.(means they are changeable)  \n",
    "                       -- Tuple are immutable (means you cannot change them)  \n",
    ">In terms of PERFORMANCE-- Lists are more flexible, but Python has to manage extra functionality, which slows them down.    \n",
    "                        --  Tuples are faster and use less memory because they are fixed in size and can't be changed.    \n",
    "** note --- 🔹 So, if you're dealing with a large amount of data that doesn’t need to change, use a tuple for better performance.    \n",
    "✅ When Would You Use a List?  \n",
    "Use a list when:   \n",
    ">You need to add, remove, or update items.  \n",
    ">The data will change over time.  \n",
    ">You’re working with user input, dynamic content, or datasets  \n",
    "✅ When Would You Use a Tuple?    \n",
    "Use a tuple when:    \n",
    "The data should not change (read-only).    \n",
    ">You want to use the data as a dictionary key or in a set.  \n",
    ">You need faster access and more memory efficiency.  \n",
    ">You are grouping fixed data like coordinates, RGB values, or returning multiple values from a function  \n",
    "✅ Real world examples--  \n",
    "> List -- shopping cart, songs playlist , to do list  \n",
    ">Tuple -- user profile , coordinates-gps  "
   ]
  },
  {
   "cell_type": "markdown",
   "id": "159d3711",
   "metadata": {},
   "source": [
    "Ans 2.TYPE CONVERSION BETWEEN DIFFERENT DATA TYPES\n",
    ">Implicit Conversion--\tPython does it automatically\n",
    ">Explicit Conversion--\tYou do it manually using functions\n",
    "-"
   ]
  },
  {
   "cell_type": "code",
   "execution_count": 2,
   "id": "0f9048c7",
   "metadata": {},
   "outputs": [
    {
     "name": "stdout",
     "output_type": "stream",
     "text": [
      "10.0\n"
     ]
    }
   ],
   "source": [
    " #✅ integer to float\n",
    "a = 10\n",
    "b = float(a)\n",
    "print(b) "
   ]
  },
  {
   "cell_type": "code",
   "execution_count": 3,
   "id": "387298be",
   "metadata": {},
   "outputs": [
    {
     "name": "stdout",
     "output_type": "stream",
     "text": [
      "10\n"
     ]
    }
   ],
   "source": [
    " #✅ float to interger\n",
    "a = 10.9\n",
    "b = int(a)\n",
    "print(b) "
   ]
  },
  {
   "cell_type": "code",
   "execution_count": 4,
   "id": "93a43db2",
   "metadata": {},
   "outputs": [
    {
     "name": "stdout",
     "output_type": "stream",
     "text": [
      "['h', 'e', 'l', 'l', 'o', 'w', 'o', 'r', 'l', 'd']\n"
     ]
    }
   ],
   "source": [
    " #✅ string to list\n",
    "a = \"helloworld\"\n",
    "b = list(a)\n",
    "print(b)"
   ]
  },
  {
   "cell_type": "code",
   "execution_count": 1,
   "id": "2c217ce9",
   "metadata": {},
   "outputs": [
    {
     "name": "stdout",
     "output_type": "stream",
     "text": [
      "hiiampalak\n"
     ]
    }
   ],
   "source": [
    " #✅ list to string\n",
    "a = [ \"hi\",\"i\",\"am\",\"palak\"]\n",
    "joined = ''.join(a)\n",
    "print(joined)"
   ]
  },
  {
   "cell_type": "code",
   "execution_count": 2,
   "id": "548fc9fb",
   "metadata": {},
   "outputs": [
    {
     "name": "stdout",
     "output_type": "stream",
     "text": [
      "{1, 2, 3}\n"
     ]
    }
   ],
   "source": [
    "# list to set\n",
    "a = [1,2,3]\n",
    "b = set(a)\n",
    "print(b)"
   ]
  },
  {
   "cell_type": "markdown",
   "id": "2022df99",
   "metadata": {},
   "source": [
    "ANS 3. ##key difference between List, Set, Dictionary  \n",
    "> LIST ---list is  ordered and mutable collection of elements that allows duplicates  \n",
    "        --it is indexive\n",
    "        "
   ]
  },
  {
   "cell_type": "code",
   "execution_count": null,
   "id": "4c42ff26",
   "metadata": {},
   "outputs": [
    {
     "name": "stdout",
     "output_type": "stream",
     "text": [
      "song1\n",
      "song2\n",
      "song3\n",
      "song1\n"
     ]
    }
   ],
   "source": [
    "playlist = [\"song1\" , \"song2\",\"song3\",\"song1\"]\n",
    "for i in  playlist:\n",
    "    \n",
    "   print(i)\n",
    "   #list is best when you have ordered elements, and you can update them too, and you can access them too "
   ]
  },
  {
   "cell_type": "markdown",
   "id": "bcb2c15c",
   "metadata": {},
   "source": [
    "SET = A set is an unordered, mutable collection that does not allow duplicates.   \n",
    " Sets are optimized for fast membership testing and set operations like union, intersection, and difference.     "
   ]
  },
  {
   "cell_type": "code",
   "execution_count": null,
   "id": "682a9dbc",
   "metadata": {},
   "outputs": [],
   "source": [
    "voted_emails = set()\n",
    "\n",
    "def vote(email):\n",
    "    if email in voted_emails:\n",
    "         return f\" you have already voted{email}\"\n",
    "    else:\n",
    "        voted_emails.add(email)\n",
    "        return f\"vote recorded successfully  : {email}\"\n",
    "    \n",
    "while True:\n",
    "    email= input(\"enter you mail: (ot type 'exit')\")\n",
    "    if email.lower()  ==\"exit\":\n",
    "      break\n",
    "    print(vote (email))\n",
    "print(\"\\n voters who have voted \")\n",
    "for i in voted_emails:\n",
    "    print(i)\n",
    "    # print(len(i))\n",
    "## set is best when you have to take unique values , you dont want duplicates and want to do some mathematical operation"
   ]
  },
  {
   "cell_type": "markdown",
   "id": "25824095",
   "metadata": {},
   "source": [
    "Dictionary -- A dictionary is an unordered, mutable collection of key-value pairs.  \n",
    " Each key is unique, and you use it to access or store its associated value.  "
   ]
  },
  {
   "cell_type": "code",
   "execution_count": null,
   "id": "97a8b910",
   "metadata": {},
   "outputs": [
    {
     "name": "stdout",
     "output_type": "stream",
     "text": [
      "95\n"
     ]
    }
   ],
   "source": [
    "scores = {'Palak': 95, 'Ravi': 88, 'Nina': 76}\n",
    "print(scores['Palak']) \n",
    "##dictionary is best when you want to map one thing to another , wahen you want to lookup by a unique key, you need a structured data"
   ]
  },
  {
   "cell_type": "markdown",
   "id": "acb7896e",
   "metadata": {},
   "source": [
    "Ans 4 --\n",
    "The __repr__ and __str__ methods in Python are special (magic) methods used to define how objects of a custom class are represented as strings.    \n",
    "They serve different purposes but often work together to make your classes more user-friendly and debuggable. \n",
    "they both are defined as def   \n",
    "\n",
    "✅ __repr__ --- Purpose: Returns a string that is unambiguous and ideally could be used to recreate the object.  \n",
    "(unambiguaous means)--The string should clearly show what the object is — ideally in a way that could be copied and pasted into code to recreate the same object.    \n",
    "-- it is used as a function, repr(object)with print  \n",
    "Always implement __repr__: It helps in debugging, logging, and testing. It's good practice.  \n",
    "\n",
    "✅ __str__----Purpose: Returns a readable and user-friendly string version of the object.  \n",
    "--it is used as function ,print(obj),str(obj)  \n",
    "Implement __str__ when user-friendly output is needed: Especially for classes intended to be printed or logged in a readable format (e.g., reports, CLI tools).  \n"
   ]
  },
  {
   "cell_type": "code",
   "execution_count": 7,
   "id": "38585cbf",
   "metadata": {},
   "outputs": [
    {
     "name": "stdout",
     "output_type": "stream",
     "text": [
      "book:atomic habits,james,400\n",
      "atomic habits by james of 400pages:\n"
     ]
    }
   ],
   "source": [
    "#__repr__ &__str__\n",
    "class book:\n",
    "    def __init__(self,title,author,pages):\n",
    "        self.author =author\n",
    "        self.title = title\n",
    "        self.pages = pages\n",
    "    def __repr__(self):\n",
    "        return f\"book:{self.title},{self.author},{self.pages}\"\n",
    "    def __str__(self):\n",
    "        return f\"{self.title} by {self.author} of {self.pages}pages:\"\n",
    "    \n",
    "obj = book(\"atomic habits\", \"james\",400)\n",
    "print(repr(obj))\n",
    "print(obj)\n",
    "\n",
    "\n"
   ]
  },
  {
   "cell_type": "markdown",
   "id": "f7f15723",
   "metadata": {},
   "source": [
    "Ans 5 --Python handles large integers very efficiently and automatically, thanks to its built-in int type.  \n",
    " When you perform arithmetic operations, Python will automatically promote integers to arbitrary precision as needed — no overflow occurs.  \n",
    " (arbitarty precision ---Arbitrary precision means that integers in Python can grow as large as needed, limited only by the available memory — not by a fixed number of bits like in many other languages.)"
   ]
  },
  {
   "cell_type": "code",
   "execution_count": null,
   "id": "ba203919",
   "metadata": {},
   "outputs": [
    {
     "data": {
      "text/plain": [
       "10000000000000000000000000000000000000000000000000000000000000000000000000000000000000000000000000000"
      ]
     },
     "execution_count": 1,
     "metadata": {},
     "output_type": "execute_result"
    }
   ],
   "source": [
    "#✅ Python 3: Unified int Type\n",
    "# In Python 3, there is only one int type, and it supports arbitrary precision.  \n",
    "# This means you can work with very large integers without any special syntax or types.\n",
    "# it is already replaced python 2 \n",
    "a = 10**100\n",
    "a\n",
    "# This works without error — Python just allocates more memory internally."
   ]
  },
  {
   "cell_type": "code",
   "execution_count": null,
   "id": "ed4ced91",
   "metadata": {},
   "outputs": [],
   "source": [
    "#⚠️ Python 2: Two Integer Types\n",
    "# In Python 2, integers are handled differently:\n",
    "# python 2 have two integer types\n",
    "# int--Fixed-size (typically 32 or 64 bits)\n",
    "# long-Arbitrary-precision integer\n",
    "# 🔹 Python 2 int:\n",
    "# Similar to C integers — limited by system word size.\n",
    "# When the value exceeds the maximum, you get an OverflowError.\n",
    "# 🔹 Python 2 long:\n",
    "# Identified with an L suffix:"
   ]
  },
  {
   "cell_type": "markdown",
   "id": "19431426",
   "metadata": {},
   "source": [
    "6. What is the difference between the `+=` operator and the `+`operator in Python when used with mutable and immutable types?  \n",
    "ANS 6 ✅\"+=\" is a arithematic operator \n",
    "        >Tries to modify the object in place (if it's mutable).\n",
    "        >If the object is immutable, it creates a new object just like +. \n",
    "      ✅\"+\" operaator always creates a new object  \n",
    "      >It performs addition/concatenation and returns a new object.  \n",
    "      >Original object is not changed.  "
   ]
  },
  {
   "cell_type": "code",
   "execution_count": null,
   "id": "227bb42a",
   "metadata": {},
   "outputs": [
    {
     "data": {
      "text/plain": [
       "10"
      ]
     },
     "execution_count": 3,
     "metadata": {},
     "output_type": "execute_result"
    }
   ],
   "source": [
    "#✅ With Immutable Types (like int, str, tuple)\n",
    "# These cannot be changed, so += creates a new object, just like +.\n",
    "a = 10\n",
    "b = a #it does not change the original object\n",
    "a+=5  # it creates the new object\n",
    "a\n",
    "b\n",
    "\n"
   ]
  },
  {
   "cell_type": "code",
   "execution_count": null,
   "id": "f8d6856b",
   "metadata": {},
   "outputs": [
    {
     "name": "stdout",
     "output_type": "stream",
     "text": [
      "hithere\n"
     ]
    }
   ],
   "source": [
    "#string concatenation\n",
    "a = \"hi\"\n",
    "b = \"there\"\n",
    "print(a+b)\n",
    "#in immutable both works same"
   ]
  },
  {
   "cell_type": "code",
   "execution_count": 5,
   "id": "fd3afea3",
   "metadata": {},
   "outputs": [
    {
     "data": {
      "text/plain": [
       "[1, 2, 3, 4, 5]"
      ]
     },
     "execution_count": 5,
     "metadata": {},
     "output_type": "execute_result"
    }
   ],
   "source": [
    "# ✅ With Mutable Types (like list, set, dict)\n",
    "# += modifies the object in-place — no new object is created.\n",
    "lst = [1,2,3]\n",
    "lst +=[4,5]\n",
    "lst"
   ]
  },
  {
   "cell_type": "code",
   "execution_count": 8,
   "id": "3a662962",
   "metadata": {},
   "outputs": [
    {
     "data": {
      "text/plain": [
       "[1, 2, 3, 4]"
      ]
     },
     "execution_count": 8,
     "metadata": {},
     "output_type": "execute_result"
    }
   ],
   "source": [
    "# but + creates the new object\n",
    "lst = [1,2]\n",
    "lst1 =  lst\n",
    "lst1 = lst1 + [3,4]\n",
    "lst\n",
    "lst1"
   ]
  },
  {
   "cell_type": "markdown",
   "id": "2bcea850",
   "metadata": {},
   "source": [
    "7. **Explain the purpose and use of the `in` operator in Python. How does it behave differently when used with different data types, such as strings, lists, and dictionaries?  \n",
    "ANS 7--The in operator in Python is used to check for membership — i.e., whether a value exists within a container (like a string, list, dictionary, etc.).  \n",
    "> syntax == element in container\n",
    "> it return true and false it it is in or not"
   ]
  },
  {
   "cell_type": "code",
   "execution_count": null,
   "id": "2ec4724e",
   "metadata": {},
   "outputs": [
    {
     "data": {
      "text/plain": [
       "True"
      ]
     },
     "execution_count": 10,
     "metadata": {},
     "output_type": "execute_result"
    }
   ],
   "source": [
    "#in string -- case sensitive -- check the substring\n",
    "a = \"python\"\n",
    "\"py\" in\" python\""
   ]
  },
  {
   "cell_type": "code",
   "execution_count": null,
   "id": "bd8a9a79",
   "metadata": {},
   "outputs": [
    {
     "data": {
      "text/plain": [
       "False"
      ]
     },
     "execution_count": 11,
     "metadata": {},
     "output_type": "execute_result"
    }
   ],
   "source": [
    "# in list\n",
    "a = [1,2,3,\"palak\"]\n",
    "\"palak\" in a  # true\n",
    "[2,3] in a\n"
   ]
  },
  {
   "cell_type": "code",
   "execution_count": 12,
   "id": "d18bb2ce",
   "metadata": {},
   "outputs": [
    {
     "data": {
      "text/plain": [
       "True"
      ]
     },
     "execution_count": 12,
     "metadata": {},
     "output_type": "execute_result"
    }
   ],
   "source": [
    "# in dictionary\n",
    "dt = {\"palak\": 10, \"abc\": 9}\n",
    "\"palak\" in dt"
   ]
  },
  {
   "cell_type": "code",
   "execution_count": 21,
   "id": "1de0b564",
   "metadata": {},
   "outputs": [
    {
     "data": {
      "text/plain": [
       "True"
      ]
     },
     "execution_count": 21,
     "metadata": {},
     "output_type": "execute_result"
    }
   ],
   "source": [
    "# In classes\n",
    "# ✅here we use __contain__ method\n",
    "class container:\n",
    "    def __contains__(self,item):\n",
    "        return item ==10,12\n",
    "obj = container()\n",
    "12 in obj\n",
    "    "
   ]
  },
  {
   "cell_type": "code",
   "execution_count": 22,
   "id": "cdefba98",
   "metadata": {},
   "outputs": [
    {
     "name": "stdout",
     "output_type": "stream",
     "text": [
      "a\n",
      "b\n"
     ]
    }
   ],
   "source": [
    "# in for loop\n",
    "dt ={\"a\":1, \"b\":2}\n",
    "for i in dt.keys():\n",
    "    print(i)\n"
   ]
  },
  {
   "cell_type": "markdown",
   "id": "cb3f4a33",
   "metadata": {},
   "source": [
    "8. How do the bitwise operators (`&`, `|`, `^`, `~`, `<<`, `>>`) work in Python? Provide examples of their usage.  \n",
    "ANS 8--Bitwise operators in Python work directly on the binary representation of integers.  \n",
    " They're often used in low-level programming, cryptography, optimization tasks, and flag-based systems.\n",
    "HOW THEY WORK\n",
    "\t\n",
    "\n"
   ]
  },
  {
   "cell_type": "code",
   "execution_count": null,
   "id": "2060e6eb",
   "metadata": {},
   "outputs": [
    {
     "data": {
      "text/plain": [
       "1"
      ]
     },
     "execution_count": 23,
     "metadata": {},
     "output_type": "execute_result"
    }
   ],
   "source": [
    "# & --\tAND\tSets each bit to 1 if both bits are 1 --\tx & y\n",
    "a =  5 #0101\n",
    "b = 3 #0011\n",
    "a&b"
   ]
  },
  {
   "cell_type": "code",
   "execution_count": null,
   "id": "3c2558b5",
   "metadata": {},
   "outputs": [
    {
     "data": {
      "text/plain": [
       "7"
      ]
     },
     "execution_count": 25,
     "metadata": {},
     "output_type": "execute_result"
    }
   ],
   "source": [
    "# (|)OR--Sets each bit to 1 if one of two bits is 1 --\tx | y\t\n",
    "a = 5# 0101\n",
    "b = 3 #0011\n",
    "a | b"
   ]
  },
  {
   "cell_type": "code",
   "execution_count": 27,
   "id": "05b0bb0a",
   "metadata": {},
   "outputs": [
    {
     "data": {
      "text/plain": [
       "6"
      ]
     },
     "execution_count": 27,
     "metadata": {},
     "output_type": "execute_result"
    }
   ],
   "source": [
    "# ^ --XOR\tSets each bit to 1 if only one of two bits is 1 --\tx ^ y\n",
    "a = 5\n",
    "b = 3\n",
    "a^b"
   ]
  },
  {
   "cell_type": "code",
   "execution_count": null,
   "id": "3598c3da",
   "metadata": {},
   "outputs": [
    {
     "data": {
      "text/plain": [
       "-6"
      ]
     },
     "execution_count": 28,
     "metadata": {},
     "output_type": "execute_result"
    }
   ],
   "source": [
    "# ~ --\tNOT\tInverts all the bits---\t~x\t\n",
    "a = 5\n",
    "~a"
   ]
  },
  {
   "cell_type": "code",
   "execution_count": null,
   "id": "b5b40201",
   "metadata": {},
   "outputs": [
    {
     "data": {
      "text/plain": [
       "40"
      ]
     },
     "execution_count": 29,
     "metadata": {},
     "output_type": "execute_result"
    }
   ],
   "source": [
    "# <<--\tZero fill left shift\tShift left by pushing zeros in from the right and let the leftmost bits fall off--\tx << 2\n",
    "a = 5 # 0101\n",
    "a<<3#0101000"
   ]
  },
  {
   "cell_type": "code",
   "execution_count": 1,
   "id": "1aa1b151",
   "metadata": {},
   "outputs": [
    {
     "data": {
      "text/plain": [
       "1"
      ]
     },
     "execution_count": 1,
     "metadata": {},
     "output_type": "execute_result"
    }
   ],
   "source": [
    "# >>-- Signed right shift\tShift right by pushing copies of the leftmost bit in from the left, and let the rightmost bits fall off\n",
    "# --\tx >> 2\n",
    "\n",
    "a = 5\n",
    "a>>2"
   ]
  },
  {
   "cell_type": "markdown",
   "id": "8cacfdb0",
   "metadata": {},
   "source": [
    "9. What are augmented assignment operators, and how do they work in Python? Give examples with `+=`, `-=`, and `*=`  \n",
    "ANS 9 -- AUGMENTED ASSIGNMENT OPERATORS ---Augmented assignment operators combine a binary operation (like +, -, *, etc.) with assignment (=) in a single shorthand syntax.  \n",
    "> SYNTAX-- a <op>= b ➡️ a = a <op> b  --<op> like +,-,*,/\n",
    "Augmented assignment operators are a compact and efficient way to update variable values. They’re especially powerful when working with loops, counters, accumulators, or in-place object modifications.  "
   ]
  },
  {
   "cell_type": "code",
   "execution_count": null,
   "id": "861231a4",
   "metadata": {},
   "outputs": [
    {
     "name": "stdout",
     "output_type": "stream",
     "text": [
      "after income added in wallet 50000.0\n",
      "sip,5000\n",
      "sip,5000\n",
      "food,10000\n",
      "after savings 28000.0\n"
     ]
    }
   ],
   "source": [
    "wallet = 0.0\n",
    "expenses = []\n",
    " # add income\n",
    "income = int(input(\"your income:\"))\n",
    "wallet += income \n",
    "print(\"after income added in wallet\",wallet)\n",
    "# add expenses\n",
    "\n",
    "# sip = int(input(print(\"SIP:\")))\n",
    "# wallet-=sip\n",
    "# print(\"after wallet\")\n",
    "\n",
    "# food = int(input(print(\"food:\")))\n",
    "# wallet -=food\n",
    "# print(wallet)\n",
    "num_expenses = int(input(\"how many expenses you want to add:\"))\n",
    "\n",
    "for i in range(num_expenses):\n",
    "    name = input(f\"Enter your expenses = {i+1}: \" )\n",
    "    amount = int(input(f\"enter your amount for {name}: \"))\n",
    "    expenses.append({\"name\":name, \"amount\":amount})\n",
    "    wallet -= amount\n",
    "    # print(expenses)\n",
    "    for e in expenses:\n",
    "        print(f\"{e[\"name\"]},{e[\"amount\"]}\")\n",
    "print(\"after expenses:\",wallet)\n",
    "\n",
    "saving_percentage = int(input(\"how much saving percentange \"))\n",
    "wallet*=(1-saving_percentage/100)\n",
    "print(\"after savings\",wallet)\n",
    "\n",
    "print(\"total amount left in wallet \",wallet)\n",
    "\n"
   ]
  },
  {
   "cell_type": "markdown",
   "id": "b087d4dc",
   "metadata": {},
   "source": [
    "10. How does Python’s `is` operator differ from `==`, especially in terms of comparing lists, strings, and other complex data types?  \n",
    "ANS 10 -- \n",
    "== --\tValue equality --\tDo the objects have the same contents?\n",
    "is --\tIdentity equality --\tAre they the exact same object in memory?\n",
    "\n",
    "Use ==:\tWhen you want to compare contents/values (e.g., numbers, strings, lists)\n",
    "Use is:\tWhen you want to check if two variables refer to the same object\n"
   ]
  }
 ],
 "metadata": {
  "kernelspec": {
   "display_name": "Python 3",
   "language": "python",
   "name": "python3"
  },
  "language_info": {
   "codemirror_mode": {
    "name": "ipython",
    "version": 3
   },
   "file_extension": ".py",
   "mimetype": "text/x-python",
   "name": "python",
   "nbconvert_exporter": "python",
   "pygments_lexer": "ipython3",
   "version": "3.12.5"
  }
 },
 "nbformat": 4,
 "nbformat_minor": 5
}
