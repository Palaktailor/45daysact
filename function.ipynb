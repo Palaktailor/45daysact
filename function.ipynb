{
 "cells": [
  {
   "cell_type": "markdown",
   "id": "ff1ea45a",
   "metadata": {},
   "source": [
    "##function is a block of code to do repeated taskk is used to do repeated task and  it will execute \n",
    "#only when it is called\n",
    "type of function##\n",
    "#user defined function\n",
    "#built in function"
   ]
  },
  {
   "cell_type": "code",
   "execution_count": 2,
   "id": "4313ec49",
   "metadata": {},
   "outputs": [
    {
     "name": "stdout",
     "output_type": "stream",
     "text": [
      "hello from the function\n"
     ]
    }
   ],
   "source": [
    "##user defined function \n",
    "def hello():\n",
    "    print(\"hello from the function\")\n",
    "\n",
    "hello()#calling a function\n"
   ]
  },
  {
   "cell_type": "code",
   "execution_count": 3,
   "id": "539368e7",
   "metadata": {},
   "outputs": [
    {
     "name": "stdout",
     "output_type": "stream",
     "text": [
      "40\n"
     ]
    }
   ],
   "source": [
    "def add():\n",
    "    a = 10\n",
    "    b=30\n",
    "    c = a+b\n",
    "    print(c)\n",
    "add()"
   ]
  },
  {
   "cell_type": "code",
   "execution_count": 4,
   "id": "1ca2599b",
   "metadata": {},
   "outputs": [],
   "source": [
    "#parameter and argument\n",
    "#when you want to take the value from the user\n",
    "# parameters - when you pass the information in the fuction when you are making it \n",
    "# arguments - when you pass the info in the function when calling it"
   ]
  },
  {
   "cell_type": "code",
   "execution_count": 9,
   "id": "6947a819",
   "metadata": {},
   "outputs": [
    {
     "name": "stdout",
     "output_type": "stream",
     "text": [
      "30\n"
     ]
    }
   ],
   "source": [
    "def add(a,b):\n",
    "    print(a+b)\n",
    "a= int(input(\"enter a num\"))\n",
    "b= int(input(\"+enter a num\"))\n",
    "\n",
    "result = add(a,b)\n"
   ]
  },
  {
   "cell_type": "code",
   "execution_count": 7,
   "id": "b8dd8bb7",
   "metadata": {},
   "outputs": [
    {
     "name": "stdout",
     "output_type": "stream",
     "text": [
      "the youngest child is chig\n"
     ]
    }
   ],
   "source": [
    "#arbitary arguments\"\"args\"\"\n",
    "#denoted by *\n",
    "def child(*kids):\n",
    "    print(\"the youngest child is \" + kids[2])\n",
    "\n",
    "child(\"jaya\", \"palak\", \"chig\")"
   ]
  },
  {
   "cell_type": "code",
   "execution_count": 13,
   "id": "ba5d3181",
   "metadata": {},
   "outputs": [
    {
     "name": "stdout",
     "output_type": "stream",
     "text": [
      "the youngest child ischig\n"
     ]
    }
   ],
   "source": [
    "##keyword argument\n",
    "def child(child1,child2,child3):\n",
    "    print(\"the youngest child is\" +child2)\n",
    "\n",
    "child(child1=\"jaya\",child2=\"chig\", child3=\"palak\")    "
   ]
  },
  {
   "cell_type": "code",
   "execution_count": 20,
   "id": "6bf72b85",
   "metadata": {},
   "outputs": [
    {
     "ename": "TypeError",
     "evalue": "child() takes 0 positional arguments but 2 were given",
     "output_type": "error",
     "traceback": [
      "\u001b[31m---------------------------------------------------------------------------\u001b[39m",
      "\u001b[31mTypeError\u001b[39m                                 Traceback (most recent call last)",
      "\u001b[36mCell\u001b[39m\u001b[36m \u001b[39m\u001b[32mIn[20]\u001b[39m\u001b[32m, line 5\u001b[39m\n\u001b[32m      3\u001b[39m \u001b[38;5;28;01mdef\u001b[39;00m\u001b[38;5;250m \u001b[39m\u001b[34mchild\u001b[39m(**kids):\n\u001b[32m      4\u001b[39m     \u001b[38;5;28mprint\u001b[39m(\u001b[33m\"\u001b[39m\u001b[33mthe youngest child is\u001b[39m\u001b[33m\"\u001b[39m +kids[child3])\n\u001b[32m----> \u001b[39m\u001b[32m5\u001b[39m \u001b[43mchild\u001b[49m\u001b[43m(\u001b[49m\u001b[33;43m\"\u001b[39;49m\u001b[33;43mjaya\u001b[39;49m\u001b[33;43m\"\u001b[39;49m\u001b[43m,\u001b[49m\u001b[33;43m\"\u001b[39;49m\u001b[33;43mpalak\u001b[39;49m\u001b[33;43m\"\u001b[39;49m\u001b[43m,\u001b[49m\u001b[43mchild3\u001b[49m\u001b[43m=\u001b[49m\u001b[33;43m\"\u001b[39;49m\u001b[33;43mchig\u001b[39;49m\u001b[33;43m\"\u001b[39;49m\u001b[43m)\u001b[49m    \n",
      "\u001b[31mTypeError\u001b[39m: child() takes 0 positional arguments but 2 were given"
     ]
    }
   ],
   "source": [
    "##arbitary keywords,arguments--kwargs--\n",
    "# denoted by **kwargs\n",
    "def child(**kids):\n",
    "    print(\"the youngest child is\" +kids[child3])\n",
    "child(\"jaya\",\"palak\",child3=\"chig\")    "
   ]
  },
  {
   "cell_type": "code",
   "execution_count": 21,
   "id": "fcc440d2",
   "metadata": {},
   "outputs": [
    {
     "name": "stdout",
     "output_type": "stream",
     "text": [
      "my hobby iscricket\n"
     ]
    }
   ],
   "source": [
    "def hobby(name):\n",
    "    print(\"my hobby is\"+ name)\n",
    "\n",
    "hobby(\"cricket\")"
   ]
  },
  {
   "cell_type": "code",
   "execution_count": 23,
   "id": "a5e3cbea",
   "metadata": {},
   "outputs": [
    {
     "name": "stdout",
     "output_type": "stream",
     "text": [
      "my hobby iscricket\n",
      "my hobby iscoding\n"
     ]
    }
   ],
   "source": [
    "def hobby(name=\"coding\"):\n",
    "    print(\"my hobby is\"+ name)\n",
    "\n",
    "hobby(\"cricket\")\n",
    "hobby()"
   ]
  },
  {
   "cell_type": "code",
   "execution_count": null,
   "id": "6767a4fe",
   "metadata": {},
   "outputs": [
    {
     "name": "stdout",
     "output_type": "stream",
     "text": [
      "mohan\n",
      "rohan\n",
      "ram\n"
     ]
    }
   ],
   "source": [
    "# passing list as an argument\n",
    "def lst(name):\n",
    "    for i in name:\n",
    "        print(i)\n",
    "lst([\"mohan\",\"rohan\",\"ram\"])"
   ]
  },
  {
   "cell_type": "code",
   "execution_count": 26,
   "id": "99975771",
   "metadata": {},
   "outputs": [
    {
     "data": {
      "text/plain": [
       "59.75"
      ]
     },
     "execution_count": 26,
     "metadata": {},
     "output_type": "execute_result"
    }
   ],
   "source": [
    "# avg function\n",
    "def average(value):\n",
    "    average = sum(value)/len(value)\n",
    "    return average\n",
    "average([85,65,35,54])\n"
   ]
  },
  {
   "cell_type": "code",
   "execution_count": null,
   "id": "b03f4277",
   "metadata": {},
   "outputs": [
    {
     "name": "stdout",
     "output_type": "stream",
     "text": [
      "25.0\n"
     ]
    }
   ],
   "source": [
    "def average(value):\n",
    "    numbers =int(input(\"data\"))\n",
    "    for i in avg:\n",
    "    avg = sum(value)/len(value)\n",
    "\n",
    "\n",
    "    print(avg)\n",
    "average([10,20,30,40])\n",
    "    "
   ]
  },
  {
   "cell_type": "code",
   "execution_count": null,
   "id": "b2311384",
   "metadata": {},
   "outputs": [],
   "source": []
  }
 ],
 "metadata": {
  "kernelspec": {
   "display_name": "Python 3",
   "language": "python",
   "name": "python3"
  },
  "language_info": {
   "codemirror_mode": {
    "name": "ipython",
    "version": 3
   },
   "file_extension": ".py",
   "mimetype": "text/x-python",
   "name": "python",
   "nbconvert_exporter": "python",
   "pygments_lexer": "ipython3",
   "version": "3.12.5"
  }
 },
 "nbformat": 4,
 "nbformat_minor": 5
}
