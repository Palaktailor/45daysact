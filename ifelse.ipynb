{
 "cells": [
  {
   "cell_type": "code",
   "execution_count": 2,
   "metadata": {},
   "outputs": [
    {
     "name": "stdout",
     "output_type": "stream",
     "text": [
      "b is greater than a\n"
     ]
    }
   ],
   "source": [
    "#conditionals  statements if ,else ,elif\n",
    "a = 10\n",
    "b = 30\n",
    "if b>a:\n",
    "\n",
    "    print(\"b is greater than a\")\n"
   ]
  },
  {
   "cell_type": "code",
   "execution_count": 4,
   "metadata": {},
   "outputs": [
    {
     "name": "stdout",
     "output_type": "stream",
     "text": [
      "b is less than a\n"
     ]
    }
   ],
   "source": [
    "#conditionals  statements if ,else ,elif\n",
    "a = 10\n",
    "b = 2\n",
    "if b>a:\n",
    "\n",
    "    print(\"b is greater than a\")\n",
    "else:\n",
    "\n",
    "    print(\"b is less than a\")    "
   ]
  },
  {
   "cell_type": "code",
   "execution_count": 5,
   "metadata": {},
   "outputs": [
    {
     "name": "stdout",
     "output_type": "stream",
     "text": [
      "true\n"
     ]
    }
   ],
   "source": [
    "a = 10\n",
    "b = 20\n",
    "c = 30\n",
    "if b>a and a<c:\n",
    "  print(\"true\")\n",
    "elif b==a:\n",
    "  print(\"false\")\n",
    "  "
   ]
  },
  {
   "cell_type": "code",
   "execution_count": null,
   "metadata": {},
   "outputs": [],
   "source": [
    "a = int( input(\"1st no.\"))\n",
    "b  = int(input(\"2nd nno.\"))\n",
    "c = int(input(\"3rd no.\"))\n",
    "if b>a and a<c:\n",
    "    print(\"true\")\n",
    "elif b == a:\n",
    "    print(\"equal\")\n",
    "\n",
    "else :\n",
    "    print (\"false\")"
   ]
  },
  {
   "cell_type": "code",
   "execution_count": 2,
   "metadata": {},
   "outputs": [
    {
     "name": "stdout",
     "output_type": "stream",
     "text": [
      "true\n"
     ]
    }
   ],
   "source": [
    "a = int( input(\"1st no.\"))\n",
    "b  = int(input(\"2nd nno.\"))\n",
    "c = int(input(\"3rd no.\"))\n",
    "if b>a and a<c:\n",
    "    print(\"true\")\n",
    "elif b == a:\n",
    "    print(\"equal\")\n",
    "\n",
    "else :\n",
    "    print (\"false\")"
   ]
  },
  {
   "cell_type": "code",
   "execution_count": 4,
   "metadata": {},
   "outputs": [
    {
     "name": "stdout",
     "output_type": "stream",
     "text": [
      "35\n",
      "no. is divisible  by 5 and 7\n"
     ]
    }
   ],
   "source": [
    "a = int(input(\"enter a number\"))\n",
    "print (a)\n",
    "if a%5==0 and a %7==0:\n",
    "    print(\"no. is divisible  by 5 and 7\")\n",
    "else :\n",
    "    print (\"false\")"
   ]
  },
  {
   "cell_type": "code",
   "execution_count": null,
   "metadata": {},
   "outputs": [],
   "source": [
    "a = int(input(\"enter a number\"))  #find leap year\n",
    "print (a)\n",
    "if a\n"
   ]
  }
 ],
 "metadata": {
  "kernelspec": {
   "display_name": "Python 3",
   "language": "python",
   "name": "python3"
  },
  "language_info": {
   "codemirror_mode": {
    "name": "ipython",
    "version": 3
   },
   "file_extension": ".py",
   "mimetype": "text/x-python",
   "name": "python",
   "nbconvert_exporter": "python",
   "pygments_lexer": "ipython3",
   "version": "3.12.5"
  }
 },
 "nbformat": 4,
 "nbformat_minor": 2
}
