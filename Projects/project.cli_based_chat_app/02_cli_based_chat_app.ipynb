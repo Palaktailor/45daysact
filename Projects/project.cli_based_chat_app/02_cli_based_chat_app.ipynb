{
 "cells": [
  {
   "cell_type": "markdown",
   "id": "3b999079",
   "metadata": {},
   "source": [
    "**RECEIVER.py**"
   ]
  },
  {
   "cell_type": "code",
   "execution_count": 1,
   "id": "ee28f7bb",
   "metadata": {},
   "outputs": [
    {
     "name": "stdout",
     "output_type": "stream",
     "text": [
      "socket created\n",
      "an error occured  [WinError 10049] The requested address is not valid in its context\n"
     ]
    }
   ],
   "source": [
    "import socket\n",
    "try:\n",
    "    s = socket.socket(socket.AF_INET,socket.SOCK_DGRAM)\n",
    "    print(\"socket created\")\n",
    "    #sender ke andr receiver ka hi ip address aayega\n",
    "    #humehsa pr receiver ke andr khudka hi ip address aayega\n",
    "    ip_add = \"172.16.1.226\"\n",
    "    port = 8888\n",
    "    complete_add = (ip_add,port)\n",
    "    s.bind(complete_add)\n",
    "\n",
    "    while True:\n",
    "        message , sender_address = s.recvfrom(1024)\n",
    "\n",
    "        print(\"Raw message\" , message) \n",
    "        print(\"sender_address\",sender_address)\n",
    "\n",
    "        decoded_msg = message.decode(\"ascii\")\n",
    "        print(\"message\",decoded_msg)\n",
    "\n",
    "except Exception as e:                           \n",
    "    print(\"an error occured \", e)"
   ]
  },
  {
   "cell_type": "markdown",
   "id": "9e9e50b8",
   "metadata": {},
   "source": [
    "SENDER.py"
   ]
  },
  {
   "cell_type": "code",
   "execution_count": null,
   "id": "9d06aa75",
   "metadata": {},
   "outputs": [
    {
     "name": "stdout",
     "output_type": "stream",
     "text": [
      "socket created\n"
     ]
    }
   ],
   "source": [
    "import socket\n",
    "try:\n",
    "    #creating socket\n",
    "    s = socket.socket(socket.AF_INET,socket.SOCK_DGRAM)  #AF_INET -- address family \n",
    "    #dgram ---datagram which is used to use udp protocol++++++++++++++++++++.\n",
    "    print(\"socket created\")\n",
    "    ip_add = \"172.16.3.13\"\n",
    "    port =  8888                                               ## it ranges from 0 to 65535\n",
    "    target_add = (ip_add,port)\n",
    "    message = input(\"Enter the  message : \" )\n",
    "    encoded_msg = message.encode(\"ascii\")\n",
    "    s.sendto(encoded_msg,target_add)\n",
    "    print(\"message sent successfully\")\n",
    "    s.close()\n",
    "\n",
    "except Exception as e:\n",
    "    print(\"an error occured\")\n"
   ]
  }
 ],
 "metadata": {
  "kernelspec": {
   "display_name": "Python 3",
   "language": "python",
   "name": "python3"
  },
  "language_info": {
   "codemirror_mode": {
    "name": "ipython",
    "version": 3
   },
   "file_extension": ".py",
   "mimetype": "text/x-python",
   "name": "python",
   "nbconvert_exporter": "python",
   "pygments_lexer": "ipython3",
   "version": "3.12.5"
  }
 },
 "nbformat": 4,
 "nbformat_minor": 5
}
