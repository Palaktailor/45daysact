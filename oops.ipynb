{
 "cells": [
  {
   "cell_type": "code",
   "execution_count": 1,
   "id": "02d7ab63",
   "metadata": {},
   "outputs": [],
   "source": [
    "## class , object , method\n",
    "#types of oops\n",
    "##inheritance-----single,multiole,multilevel,hyrerchical,hybrid\n",
    "#,polymorphism,encapsulation,abstraction\n"
   ]
  },
  {
   "cell_type": "code",
   "execution_count": 2,
   "id": "fd145349",
   "metadata": {},
   "outputs": [],
   "source": [
    "#class -- blueprint of object\n",
    "#object -- instance of class"
   ]
  },
  {
   "cell_type": "code",
   "execution_count": 6,
   "id": "486f9e4d",
   "metadata": {},
   "outputs": [
    {
     "name": "stdout",
     "output_type": "stream",
     "text": [
      "('gwagon', 'xyz')\n",
      "****\n",
      "30\n"
     ]
    }
   ],
   "source": [
    "class car:\n",
    "    #class varriables\n",
    "    name = \"gwagon\"\n",
    "    models= \"xyz\"\n",
    "    num1 = 10\n",
    "    num2 = 20\n",
    "\n",
    "    #fuctions vs methods when you define a fuction in a class then its called as methods\n",
    "    def add(self):                      #self is a keyword if you want to access the variables in the class tthen you use it\n",
    "       return self.num1 +self.num2\n",
    "\n",
    "    def display(self):\n",
    "      return self.name , self.models\n",
    "\n",
    "##object\n",
    "obj = car()\n",
    "print(obj.display())\n",
    "print(\"****\")\n",
    "print(obj.add())\n",
    "\n"
   ]
  },
  {
   "cell_type": "markdown",
   "id": "3bd05252",
   "metadata": {},
   "source": []
  },
  {
   "cell_type": "code",
   "execution_count": 11,
   "id": "a15597ea",
   "metadata": {},
   "outputs": [
    {
     "data": {
      "text/plain": [
       "('lion', 10)"
      ]
     },
     "execution_count": 11,
     "metadata": {},
     "output_type": "execute_result"
    }
   ],
   "source": [
    "## init -- constructor ----initialise the variable\n",
    "class animal:\n",
    "    def __init__(self,name,age):\n",
    "        self.a = name  #hold the value from the user --- variable\n",
    "        self.b = age\n",
    "    def display(self):\n",
    "        return self.a , self.b\n",
    "    \n",
    "\n",
    "obj = animal(\"lion\",10)   \n",
    "obj.display()"
   ]
  },
  {
   "cell_type": "code",
   "execution_count": null,
   "id": "ed3d596f",
   "metadata": {},
   "outputs": [],
   "source": [
    "##inheritance---single,multiole,multilevel,hyrerchical,hybrid\n",
    "##single inheritance\n",
    "# one parent class ,one child class"
   ]
  },
  {
   "cell_type": "code",
   "execution_count": 5,
   "id": "9ec4d12b",
   "metadata": {},
   "outputs": [
    {
     "name": "stdout",
     "output_type": "stream",
     "text": [
      "car\n",
      "bike\n"
     ]
    }
   ],
   "source": [
    "class car:\n",
    "    def display(self):\n",
    "        return\"car\"\n",
    "class bike(car):   #syntax  class childclass (parentclass)\n",
    "    def show(self):\n",
    "        return\"bike\"\n",
    "obj = bike()\n",
    "print(obj.display())\n",
    "print(obj.show())"
   ]
  },
  {
   "cell_type": "code",
   "execution_count": 18,
   "id": "a8df11a2",
   "metadata": {},
   "outputs": [
    {
     "name": "stdout",
     "output_type": "stream",
     "text": [
      "palak\n",
      "1000000\n"
     ]
    }
   ],
   "source": [
    "class person:\n",
    "   def __init__(self,name):\n",
    "      self.name = input( name)\n",
    "   def show(self):\n",
    "      return self.name\n",
    "class employee(person):\n",
    "   def __init__(self,name,salary):  #  super keyword is used to access the method or properties from the parent cals\n",
    "      super().__init__(name)       # super().function name(property or variable inherited from parent class)\n",
    "      self.salary = salary\n",
    "   def showsalary(self):\n",
    "      return self.salary\n",
    "obj = employee(\"name\",1000000)\n",
    "\n",
    "# print(obj.name())\n",
    "print(obj.show())\n",
    "print(obj.showsalary())\n",
    "\n"
   ]
  },
  {
   "cell_type": "code",
   "execution_count": 27,
   "id": "466443f8",
   "metadata": {},
   "outputs": [
    {
     "name": "stdout",
     "output_type": "stream",
     "text": [
      "palak\n",
      "1000000\n",
      "98\n"
     ]
    }
   ],
   "source": [
    "class person:\n",
    "   def __init__(self,name):\n",
    "      self.name = input( name)\n",
    "   def show(self):\n",
    "      return self.name\n",
    "   \n",
    "\n",
    "class employee(person):\n",
    "   def __init__(self,name,salary):  #  super keyword is used to access the method or properties from the parent cals\n",
    "      super().__init__(name)       # super().function name(property or variable inherited from parent class)\n",
    "      self.salary = salary\n",
    "   def showsalary(self):\n",
    "      return self.salary\n",
    "\n",
    "class job:\n",
    "   def __init__(self,id):\n",
    "      self.id = id\n",
    "   def showid(self):\n",
    "      return self.id\n",
    "      \n",
    "class Employeepersonjob(employee,job):\n",
    "   def __init__(self,name,salary,id):  #syntax --parent classname.function name(peoperty /inherited variable)\n",
    "      employee.__init__(self,name,salary)\n",
    "      job.__init__(self,id)\n",
    "\n",
    "obj = Employeepersonjob(\"name\",1000000,98)\n",
    "print(obj.show())\n",
    "print(obj.showsalary())\n",
    "print(obj.showid())\n",
    "\n",
    "\n",
    "\n",
    "\n"
   ]
  },
  {
   "cell_type": "code",
   "execution_count": 48,
   "id": "0b8b49d3",
   "metadata": {},
   "outputs": [
    {
     "ename": "AttributeError",
     "evalue": "'position' object has no attribute 'name'",
     "output_type": "error",
     "traceback": [
      "\u001b[31m---------------------------------------------------------------------------\u001b[39m",
      "\u001b[31mAttributeError\u001b[39m                            Traceback (most recent call last)",
      "\u001b[36mCell\u001b[39m\u001b[36m \u001b[39m\u001b[32mIn[48]\u001b[39m\u001b[32m, line 18\u001b[39m\n\u001b[32m     16\u001b[39m         \u001b[38;5;28;01mreturn\u001b[39;00m \u001b[38;5;28mself\u001b[39m.basketball\n\u001b[32m     17\u001b[39m obj1 = position(\u001b[33m\"\u001b[39m\u001b[33mpalak\u001b[39m\u001b[33m\"\u001b[39m,\u001b[33m\"\u001b[39m\u001b[33mbasketball\u001b[39m\u001b[33m\"\u001b[39m,\u001b[33m\"\u001b[39m\u001b[33mlayup\u001b[39m\u001b[33m\"\u001b[39m)\n\u001b[32m---> \u001b[39m\u001b[32m18\u001b[39m \u001b[38;5;28mprint\u001b[39m(\u001b[43mobj1\u001b[49m\u001b[43m.\u001b[49m\u001b[43mshow\u001b[49m\u001b[43m(\u001b[49m\u001b[43m)\u001b[49m)\n\u001b[32m     19\u001b[39m \u001b[38;5;28mprint\u001b[39m(obj1.showsports())\n\u001b[32m     20\u001b[39m \u001b[38;5;28mprint\u001b[39m(obj1.showposition())\n",
      "\u001b[36mCell\u001b[39m\u001b[36m \u001b[39m\u001b[32mIn[48]\u001b[39m\u001b[32m, line 6\u001b[39m, in \u001b[36mstudent.show\u001b[39m\u001b[34m(self)\u001b[39m\n\u001b[32m      5\u001b[39m \u001b[38;5;28;01mdef\u001b[39;00m\u001b[38;5;250m \u001b[39m\u001b[34mshow\u001b[39m(\u001b[38;5;28mself\u001b[39m):\n\u001b[32m----> \u001b[39m\u001b[32m6\u001b[39m     \u001b[38;5;28;01mreturn\u001b[39;00m \u001b[38;5;28;43mself\u001b[39;49m\u001b[43m.\u001b[49m\u001b[43mname\u001b[49m\n",
      "\u001b[31mAttributeError\u001b[39m: 'position' object has no attribute 'name'"
     ]
    }
   ],
   "source": [
    "#multilevel ---A---B---C---D\n",
    "class student():\n",
    "    def __init___(self,name):\n",
    "        self.name =name\n",
    "    def show(self):\n",
    "        return self.name\n",
    "class hobby(student):\n",
    "    def __init__(self,name,sports):\n",
    "        self.sports = sports\n",
    "    def showsports(self):\n",
    "        return self.sports\n",
    "class position(hobby):\n",
    "    def __init__(self,name,sports,basketball):\n",
    "        self.basketball = basketball\n",
    "    def showposition(self):\n",
    "        return self.basketball\n",
    "obj1 = position(\"palak\",\"basketball\",\"layup\")\n",
    "print(obj1.show())\n",
    "print(obj1.showsports())\n",
    "print(obj1.showposition())\n"
   ]
  },
  {
   "cell_type": "code",
   "execution_count": null,
   "id": "0b35bcb9",
   "metadata": {},
   "outputs": [],
   "source": [
    "##polymorphism ----- many forms----the same function or method behave differently based on the input"
   ]
  },
  {
   "cell_type": "code",
   "execution_count": null,
   "id": "76d5b9f1",
   "metadata": {},
   "outputs": [
    {
     "name": "stdout",
     "output_type": "stream",
     "text": [
      "meow\n",
      "bark\n"
     ]
    }
   ],
   "source": [
    "class cat:\n",
    "    def sound(self):\n",
    "        return\"meow\"\n",
    "class dog():\n",
    "    def sound(self):\n",
    "        return\"bark\"\n",
    "\n",
    "\n",
    "obj1 =cat()\n",
    "obj2 = dog()\n",
    "print(obj1.sound())\n",
    "print(obj2.sound())"
   ]
  },
  {
   "cell_type": "code",
   "execution_count": 35,
   "id": "daf8dc4e",
   "metadata": {},
   "outputs": [
    {
     "name": "stdout",
     "output_type": "stream",
     "text": [
      "meow\n",
      "bark\n"
     ]
    }
   ],
   "source": [
    "class cat:\n",
    "    def sound(self):\n",
    "        return\"meow\"\n",
    "class dog():\n",
    "    def sound(self):\n",
    "        return\"bark\"\n",
    "def make_sound(animal):\n",
    "    return animal.sound()\n",
    "obj1 = cat()\n",
    "obj2 = dog()\n",
    "print(make_sound(obj1))\n",
    "print(make_sound(obj2))\n"
   ]
  },
  {
   "cell_type": "code",
   "execution_count": null,
   "id": "67741719",
   "metadata": {},
   "outputs": [
    {
     "name": "stdout",
     "output_type": "stream",
     "text": [
      "3.0\n",
      "16\n"
     ]
    }
   ],
   "source": [
    "class triangle():\n",
    "   def area(self):\n",
    "        self.l =int(input())\n",
    "        self.b = int(input())\n",
    "        return 0.5*self.l*self.b\n",
    "class  square():\n",
    "    def area(self):\n",
    "        self.s = int(input())\n",
    "        return self.s*self.s\n",
    "def shapes_area(shape):\n",
    "    return shape.area()\n",
    "obj1 = triangle()\n",
    "obj2 = square()\n",
    "print(shapes_area(obj1))\n",
    "print(shapes_area(obj2))\n"
   ]
  },
  {
   "cell_type": "code",
   "execution_count": null,
   "id": "9e076929",
   "metadata": {},
   "outputs": [
    {
     "name": "stdout",
     "output_type": "stream",
     "text": [
      "3.0\n",
      "16\n"
     ]
    }
   ],
   "source": [
    "class triangle(): ##construtor\n",
    "    def __init__(self,l,b):\n",
    "        self.l = l\n",
    "        self.b = b\n",
    "    def area(self):\n",
    "        return 0.5*self.l*self.b \n",
    "class square():\n",
    "    def __init__(self,s):\n",
    "        self.s = s\n",
    "    def area(self):\n",
    "        return self.s*self.s\n",
    "    \n",
    "def shapes_area(shape):\n",
    "    return shape.area()\n",
    "obj1 = triangle(2,3)\n",
    "obj2 = square(4)\n",
    "print(shapes_area(obj1)) ## write variable inthe bracket\n",
    "print(shapes_area(obj2))\n",
    "         "
   ]
  },
  {
   "cell_type": "code",
   "execution_count": null,
   "id": "3348facc",
   "metadata": {},
   "outputs": [],
   "source": [
    "##Encapsulation \n",
    "##it means hiding the internal details of class\n",
    "##protecting data from  being access orr modified directly by the outside world\n",
    "##outside world\n",
    "#we can do it by using private and proteccted variable\n",
    "#  "
   ]
  },
  {
   "cell_type": "code",
   "execution_count": 58,
   "id": "b890c304",
   "metadata": {},
   "outputs": [
    {
     "data": {
      "text/plain": [
       "99"
      ]
     },
     "execution_count": 58,
     "metadata": {},
     "output_type": "execute_result"
    }
   ],
   "source": [
    "class student():\n",
    "    def __init__(self,name,marks):\n",
    "        self.name = name   #__variable (double underscore variable)----private \n",
    "        self.__marks = marks\n",
    "    def get_marks(self):\n",
    "        return self.__marks\n",
    "    def set_marks(self,marks):\n",
    "        if 0 <= marks <= 100:\n",
    "            self.__marks = marks\n",
    "        else :\n",
    "            print(\"invalid number\")\n",
    "s = student(\"palak\",99)\n",
    "# s.get_marks()\n",
    "# print(s.set_marks( 4))\n",
    "# print(s.get_marks())\n",
    "#name manglin\n",
    "s._student__marks"
   ]
  },
  {
   "cell_type": "code",
   "execution_count": null,
   "id": "df092776",
   "metadata": {},
   "outputs": [],
   "source": [
    "# file handling  ------------learn\n",
    "# iterator , generator,regular expression"
   ]
  },
  {
   "cell_type": "code",
   "execution_count": null,
   "id": "728c6ef6",
   "metadata": {},
   "outputs": [],
   "source": []
  }
 ],
 "metadata": {
  "kernelspec": {
   "display_name": "Python 3",
   "language": "python",
   "name": "python3"
  },
  "language_info": {
   "codemirror_mode": {
    "name": "ipython",
    "version": 3
   },
   "file_extension": ".py",
   "mimetype": "text/x-python",
   "name": "python",
   "nbconvert_exporter": "python",
   "pygments_lexer": "ipython3",
   "version": "3.12.5"
  }
 },
 "nbformat": 4,
 "nbformat_minor": 5
}
